{
 "cells": [
  {
   "cell_type": "markdown",
   "metadata": {},
   "source": [
    "# 2019-08-08 Biomphalaria tissues\n",
    "\n",
    "## Aim\n",
    "\n",
    "Lauren Carruthers internship project. Look at microbiomes of different tissues from two *Biomphalaria* species.\n"
   ]
  },
  {
   "cell_type": "code",
   "execution_count": null,
   "metadata": {},
   "outputs": [],
   "source": [
    "# Project directory\n",
    "cd $HOME/analyses/11-Microbiome/\n",
    "mkdir 2019-08-08_Biomphalaria_tissues\n",
    "cd 2019-08-08_Biomphalaria_tissues\n",
    "\n",
    "# Fasta generation (MiSeq Output previously uploaded)\n",
    "cd 0-Raw\\ data/190806_M01370_0001_000000000-CKY27/\n",
    "nohup bcl2fastq --output-dir ../fastq_files/\n",
    "cd ../..\n",
    "\n",
    "# Working directory\n",
    "mkdir 1-Qiime\n",
    "cd 1-Qiime"
   ]
  },
  {
   "cell_type": "code",
   "execution_count": 1,
   "metadata": {},
   "outputs": [],
   "source": [
    "cd $HOME/analyses/11-Microbiome/\n",
    "cd 2019-08-08_Biomphalaria_tissues\n",
    "cd 1-Qiime\n",
    "\n",
    "# Link data\n",
    "mkdir data\n",
    "ln -s ../0-Libraries/*.fastq.gz data/"
   ]
  },
  {
   "cell_type": "code",
   "execution_count": 5,
   "metadata": {},
   "outputs": [],
   "source": [
    "# Create the manifest for importing data in artefact\n",
    "## source: https://docs.qiime2.org/2019.4/tutorials/importing/#fastq-manifest-formats\n",
    "for i in $(ls data/* | cut -d \"_\" -f 3-5 | uniq)\n",
    "do\n",
    "    nm=$(sed \"s,data/,, ; s,_,.,g\" <<<$i)\n",
    "    fl=$(ls -1 $PWD/data/*$i* | tr \"\\n\" \"\\t\")\n",
    "\n",
    "    echo -e \"$nm\\t$fl\"\n",
    "done > manifest\n",
    "\n",
    "# Add header\n",
    "sed -i \"1s/^/sample-id\\tforward-absolute-filepath\\treverse-absolute-filepath\\n/\" manifest"
   ]
  },
  {
   "cell_type": "code",
   "execution_count": null,
   "metadata": {},
   "outputs": [],
   "source": [
    "source ~/local/pckg/python/miniconda3/etc/profile.d/conda.sh\n",
    "\n",
    "# To remove any potential conflict\n",
    "export PYTHONPATH=\"\"\n",
    "\n",
    "# Activate qiime environment\n",
    "conda activate qiime2-2019.4\n",
    "\n",
    "# Import data\n",
    "## source: https://docs.qiime2.org/2019.4/tutorials/importing/\n",
    "qiime tools import \\\n",
    "  --type 'SampleData[PairedEndSequencesWithQuality]' \\\n",
    "  --input-path manifest \\\n",
    "  --input-format PairedEndFastqManifestPhred33V2 \\\n",
    "  --output-path demux-paired-end.qza"
   ]
  },
  {
   "cell_type": "code",
   "execution_count": 9,
   "metadata": {},
   "outputs": [
    {
     "name": "stdout",
     "output_type": "stream",
     "text": [
      "(qiime2-2019.4) \u001b[32mSaved Visualization to: demux-paired-end2.qzv\u001b[0m\n",
      "(qiime2-2019.4) "
     ]
    },
    {
     "ename": "",
     "evalue": "1",
     "output_type": "error",
     "traceback": []
    }
   ],
   "source": [
    "# Make a summary to check read quality\n",
    "qiime demux summarize \\\n",
    "  --i-data demux-paired-end.qza \\\n",
    "  --o-visualization demux-paired-end.qzv"
   ]
  },
  {
   "cell_type": "code",
   "execution_count": 12,
   "metadata": {},
   "outputs": [
    {
     "name": "stdout",
     "output_type": "stream",
     "text": [
      "\u001b[32mSaved FeatureTable[Frequency] to: table.qza\u001b[0m\n",
      "\u001b[32mSaved FeatureData[Sequence] to: rep-seqs.qza\u001b[0m\n",
      "\u001b[32mSaved SampleData[DADA2Stats] to: denoising-stats.qza\u001b[0m\n",
      "(qiime2-2019.4) "
     ]
    },
    {
     "ename": "",
     "evalue": "1",
     "output_type": "error",
     "traceback": []
    }
   ],
   "source": [
    "qiime dada2 denoise-paired \\\n",
    "  --i-demultiplexed-seqs demux-paired-end.qza \\\n",
    "  --p-trunc-len-f 250 \\\n",
    "  --p-trunc-len-r 250 \\\n",
    "  --p-trim-left-f 0 \\\n",
    "  --p-trim-left-r 13 \\\n",
    "  --p-n-threads 0   \\\n",
    "  --o-table table.qza \\\n",
    "  --o-representative-sequences rep-seqs.qza \\\n",
    "  --o-denoising-stats denoising-stats.qza"
   ]
  },
  {
   "cell_type": "code",
   "execution_count": 13,
   "metadata": {},
   "outputs": [
    {
     "name": "stdout",
     "output_type": "stream",
     "text": [
      "(qiime2-2019.4) "
     ]
    },
    {
     "ename": "",
     "evalue": "1",
     "output_type": "error",
     "traceback": []
    }
   ],
   "source": [
    "ln -s ../../2019-05-09_paper/1-Qiime/database/ .\n",
    "\n",
    "qiime feature-classifier classify-consensus-vsearch \\\n",
    "    --i-query rep-seqs.qza \\\n",
    "    --i-reference-reads database/silva_132_99_16S.qza \\\n",
    "    --i-reference-taxonomy database/silva_132_99_16S_taxa.qza \\\n",
    "    --p-perc-identity 0.97 \\\n",
    "    --p-threads $(nproc) \\\n",
    "    --o-classification rep-seqs_taxa.qza"
   ]
  },
  {
   "cell_type": "code",
   "execution_count": null,
   "metadata": {},
   "outputs": [],
   "source": [
    "# Create the manifest for importing data in artefact\n",
    "## source: https://docs.qiime2.org/2019.4/tutorials/importing/#fastq-manifest-formats\n",
    "for i in $(ls data/* | cut -d \"_\" -f -5 | uniq)\n",
    "do\n",
    "    nm=$(sed \"s,data/,, ; s,_,.,g\" <<<$i)\n",
    "    cln=$(echo \"$nm\" | cut -d \".\" -f 4)\n",
    "    cln=\"$cln\\t$(echo \"$nm\" | cut -d \".\" -f 4-5)\"\n",
    "    cln=\"$cln\\t$(echo \"$nm\" | cut -d \".\" -f 5)\"\n",
    "    \n",
    "    # Update name\n",
    "    nm=$(echo \"$nm\" | cut -d \".\" -f 3-5)\n",
    "\n",
    "    echo -e \"$nm\\t$cln\"\n",
    "done > sample-metadata.tsv\n",
    "\n",
    "# Add header\n",
    "sed -i \"1s/^/sample-id\\tSpecies\\tComb\\tTissue\\n/\" sample-metadata.tsv"
   ]
  },
  {
   "cell_type": "code",
   "execution_count": 19,
   "metadata": {},
   "outputs": [
    {
     "name": "stdout",
     "output_type": "stream",
     "text": [
      "(qiime2-2019.4) (qiime2-2019.4) (qiime2-2019.4) (qiime2-2019.4) (qiime2-2019.4) (qiime2-2019.4) "
     ]
    },
    {
     "ename": "",
     "evalue": "1",
     "output_type": "error",
     "traceback": []
    }
   ],
   "source": [
    "## !! WARNING To be removed when samplesheet corrected\n",
    "sed -i \"s/\\tCa/\\tBa/g\" sample-metadata.tsv"
   ]
  },
  {
   "cell_type": "code",
   "execution_count": 20,
   "metadata": {},
   "outputs": [
    {
     "name": "stdout",
     "output_type": "stream",
     "text": [
      "(qiime2-2019.4) (qiime2-2019.4) (qiime2-2019.4) \u001b[32mSaved FeatureData[AlignedSequence] to: aligned-rep-seqs.qza\u001b[0m\n",
      "(qiime2-2019.4) (qiime2-2019.4) (qiime2-2019.4) \u001b[32mSaved FeatureData[AlignedSequence] to: masked-aligned-rep-seqs.qza\u001b[0m\n",
      "(qiime2-2019.4) (qiime2-2019.4) (qiime2-2019.4) \u001b[32mSaved Phylogeny[Unrooted] to: unrooted-tree.qza\u001b[0m\n",
      "(qiime2-2019.4) (qiime2-2019.4) (qiime2-2019.4) \u001b[32mSaved Phylogeny[Rooted] to: rooted-tree.qza\u001b[0m\n",
      "(qiime2-2019.4) "
     ]
    },
    {
     "ename": "",
     "evalue": "1",
     "output_type": "error",
     "traceback": []
    }
   ],
   "source": [
    "# source: https://chmi-sops.github.io/mydoc_qiime2.html\n",
    "\n",
    "#carry out a multiple seqeunce alignment using Mafft\n",
    "qiime alignment mafft \\\n",
    "    --i-sequences rep-seqs.qza \\\n",
    "    --o-alignment aligned-rep-seqs.qza\n",
    "\n",
    "#mask (or filter) the alignment to remove positions that are highly variable. These positions are generally considered to add noise to a resulting phylogenetic tree.\n",
    "qiime alignment mask \\\n",
    "    --i-alignment aligned-rep-seqs.qza \\\n",
    "    --o-masked-alignment masked-aligned-rep-seqs.qza\n",
    "\n",
    "#create the tree using the Fasttree program\n",
    "qiime phylogeny fasttree \\\n",
    "    --i-alignment masked-aligned-rep-seqs.qza \\\n",
    "    --o-tree unrooted-tree.qza\n",
    "\n",
    "#root the tree using the longest root\n",
    "qiime phylogeny midpoint-root \\\n",
    "    --i-tree unrooted-tree.qza \\\n",
    "    --o-rooted-tree rooted-tree.qza"
   ]
  },
  {
   "cell_type": "code",
   "execution_count": 32,
   "metadata": {},
   "outputs": [
    {
     "name": "stdout",
     "output_type": "stream",
     "text": [
      "\u001b[32mSaved Visualization to: alpha-rarefaction.qzv\u001b[0m\n",
      "(qiime2-2019.4) "
     ]
    },
    {
     "ename": "",
     "evalue": "1",
     "output_type": "error",
     "traceback": []
    }
   ],
   "source": [
    "qiime diversity alpha-rarefaction \\\n",
    "    --i-table table.qza \\\n",
    "    --i-phylogeny rooted-tree.qza \\\n",
    "    --p-max-depth 33000 \\\n",
    "    --m-metadata-file sample-metadata.tsv \\\n",
    "    --o-visualization alpha-rarefaction.qzv"
   ]
  },
  {
   "cell_type": "code",
   "execution_count": 22,
   "metadata": {},
   "outputs": [
    {
     "name": "stdout",
     "output_type": "stream",
     "text": [
      "\u001b[32mSaved FeatureTable[Frequency] to: core-metrics-results/rarefied_table.qza\u001b[0m\n",
      "\u001b[32mSaved SampleData[AlphaDiversity] % Properties('phylogenetic') to: core-metrics-results/faith_pd_vector.qza\u001b[0m\n",
      "\u001b[32mSaved SampleData[AlphaDiversity] to: core-metrics-results/observed_otus_vector.qza\u001b[0m\n",
      "\u001b[32mSaved SampleData[AlphaDiversity] to: core-metrics-results/shannon_vector.qza\u001b[0m\n",
      "\u001b[32mSaved SampleData[AlphaDiversity] to: core-metrics-results/evenness_vector.qza\u001b[0m\n",
      "\u001b[32mSaved DistanceMatrix % Properties('phylogenetic') to: core-metrics-results/unweighted_unifrac_distance_matrix.qza\u001b[0m\n",
      "\u001b[32mSaved DistanceMatrix % Properties('phylogenetic') to: core-metrics-results/weighted_unifrac_distance_matrix.qza\u001b[0m\n",
      "\u001b[32mSaved DistanceMatrix to: core-metrics-results/jaccard_distance_matrix.qza\u001b[0m\n",
      "\u001b[32mSaved DistanceMatrix to: core-metrics-results/bray_curtis_distance_matrix.qza\u001b[0m\n",
      "\u001b[32mSaved PCoAResults to: core-metrics-results/unweighted_unifrac_pcoa_results.qza\u001b[0m\n",
      "\u001b[32mSaved PCoAResults to: core-metrics-results/weighted_unifrac_pcoa_results.qza\u001b[0m\n",
      "\u001b[32mSaved PCoAResults to: core-metrics-results/jaccard_pcoa_results.qza\u001b[0m\n",
      "\u001b[32mSaved PCoAResults to: core-metrics-results/bray_curtis_pcoa_results.qza\u001b[0m\n",
      "\u001b[32mSaved Visualization to: core-metrics-results/unweighted_unifrac_emperor.qzv\u001b[0m\n",
      "\u001b[32mSaved Visualization to: core-metrics-results/weighted_unifrac_emperor.qzv\u001b[0m\n",
      "\u001b[32mSaved Visualization to: core-metrics-results/jaccard_emperor.qzv\u001b[0m\n",
      "\u001b[32mSaved Visualization to: core-metrics-results/bray_curtis_emperor.qzv\u001b[0m\n",
      "(qiime2-2019.4) "
     ]
    },
    {
     "ename": "",
     "evalue": "1",
     "output_type": "error",
     "traceback": []
    }
   ],
   "source": [
    "qiime diversity core-metrics-phylogenetic \\\n",
    "    --i-phylogeny rooted-tree.qza \\\n",
    "    --i-table table.qza \\\n",
    "    --p-sampling-depth 5000 \\\n",
    "    --m-metadata-file sample-metadata.tsv \\\n",
    "    --output-dir core-metrics-results"
   ]
  },
  {
   "cell_type": "code",
   "execution_count": 34,
   "metadata": {},
   "outputs": [
    {
     "name": "stdout",
     "output_type": "stream",
     "text": [
      "\u001b[32mSaved FeatureTable[Frequency] to: core-metrics-results_20000/rarefied_table.qza\u001b[0m\n",
      "\u001b[32mSaved SampleData[AlphaDiversity] % Properties('phylogenetic') to: core-metrics-results_20000/faith_pd_vector.qza\u001b[0m\n",
      "\u001b[32mSaved SampleData[AlphaDiversity] to: core-metrics-results_20000/observed_otus_vector.qza\u001b[0m\n",
      "\u001b[32mSaved SampleData[AlphaDiversity] to: core-metrics-results_20000/shannon_vector.qza\u001b[0m\n",
      "\u001b[32mSaved SampleData[AlphaDiversity] to: core-metrics-results_20000/evenness_vector.qza\u001b[0m\n",
      "\u001b[32mSaved DistanceMatrix % Properties('phylogenetic') to: core-metrics-results_20000/unweighted_unifrac_distance_matrix.qza\u001b[0m\n",
      "\u001b[32mSaved DistanceMatrix % Properties('phylogenetic') to: core-metrics-results_20000/weighted_unifrac_distance_matrix.qza\u001b[0m\n",
      "\u001b[32mSaved DistanceMatrix to: core-metrics-results_20000/jaccard_distance_matrix.qza\u001b[0m\n",
      "\u001b[32mSaved DistanceMatrix to: core-metrics-results_20000/bray_curtis_distance_matrix.qza\u001b[0m\n",
      "\u001b[32mSaved PCoAResults to: core-metrics-results_20000/unweighted_unifrac_pcoa_results.qza\u001b[0m\n",
      "\u001b[32mSaved PCoAResults to: core-metrics-results_20000/weighted_unifrac_pcoa_results.qza\u001b[0m\n",
      "\u001b[32mSaved PCoAResults to: core-metrics-results_20000/jaccard_pcoa_results.qza\u001b[0m\n",
      "\u001b[32mSaved PCoAResults to: core-metrics-results_20000/bray_curtis_pcoa_results.qza\u001b[0m\n",
      "\u001b[32mSaved Visualization to: core-metrics-results_20000/unweighted_unifrac_emperor.qzv\u001b[0m\n",
      "\u001b[32mSaved Visualization to: core-metrics-results_20000/weighted_unifrac_emperor.qzv\u001b[0m\n",
      "\u001b[32mSaved Visualization to: core-metrics-results_20000/jaccard_emperor.qzv\u001b[0m\n",
      "\u001b[32mSaved Visualization to: core-metrics-results_20000/bray_curtis_emperor.qzv\u001b[0m\n",
      "(qiime2-2019.4) "
     ]
    },
    {
     "ename": "",
     "evalue": "1",
     "output_type": "error",
     "traceback": []
    }
   ],
   "source": [
    "qiime diversity core-metrics-phylogenetic \\\n",
    "    --i-phylogeny rooted-tree.qza \\\n",
    "    --i-table table.qza \\\n",
    "    --p-sampling-depth 20000 \\\n",
    "    --m-metadata-file sample-metadata.tsv \\\n",
    "    --output-dir core-metrics-results_20000"
   ]
  },
  {
   "cell_type": "code",
   "execution_count": null,
   "metadata": {},
   "outputs": [],
   "source": [
    "## NOT RUN\n",
    "qiime diversity beta-group-significance \\\n",
    "  --i-distance-matrix core-metrics-results/unweighted_unifrac_distance_matrix.qza \\\n",
    "  --m-metadata-file sample-metadata.tsv \\\n",
    "  --o-visualization core-metrics-results/unweighted-unifrac-body-site-significance.qzv \\\n",
    "  --p-pairwise"
   ]
  },
  {
   "cell_type": "code",
   "execution_count": 26,
   "metadata": {},
   "outputs": [
    {
     "name": "stdout",
     "output_type": "stream",
     "text": [
      "(qiime2-2019.4) (qiime2-2019.4) (qiime2-2019.4) \u001b[32mSaved Visualization to: core-metrics-visu/unweighted-unifrac-emperor-DaysSinceExperimentStart.qzv\u001b[0m\n",
      "(qiime2-2019.4) (qiime2-2019.4) (qiime2-2019.4) (qiime2-2019.4) \u001b[32mSaved Visualization to: core-metrics-visu/bray-curtis-emperor-DaysSinceExperimentStart.qzv\u001b[0m\n",
      "(qiime2-2019.4) (qiime2-2019.4) "
     ]
    },
    {
     "ename": "",
     "evalue": "1",
     "output_type": "error",
     "traceback": []
    }
   ],
   "source": [
    "mkdir core-metrics-visu\n",
    "\n",
    "#first, use the unweighted unifrac data as input\n",
    "qiime emperor plot \\\n",
    "    --i-pcoa core-metrics-results/unweighted_unifrac_pcoa_results.qza \\\n",
    "    --m-metadata-file sample-metadata.tsv \\\n",
    "    --o-visualization core-metrics-visu/unweighted-unifrac-emperor-DaysSinceExperimentStart.qzv\n",
    "#  --p-custom-axes Spieces \\\n",
    "\n",
    "#now repeat with bray curtis\n",
    "qiime emperor plot \\\n",
    "    --i-pcoa core-metrics-results/bray_curtis_pcoa_results.qza \\\n",
    "    --m-metadata-file sample-metadata.tsv \\\n",
    "    --o-visualization core-metrics-visu/bray-curtis-emperor-DaysSinceExperimentStart.qzv\n",
    "#  --p-custom-axes DaysSinceExperimentStart \\"
   ]
  },
  {
   "cell_type": "code",
   "execution_count": 35,
   "metadata": {},
   "outputs": [
    {
     "name": "stdout",
     "output_type": "stream",
     "text": [
      "(qiime2-2019.4) (qiime2-2019.4) (qiime2-2019.4) (qiime2-2019.4) \u001b[32mSaved Visualization to: core-metrics-visu_20000/unweighted-unifrac-emperor.qzv\u001b[0m\n",
      "(qiime2-2019.4) (qiime2-2019.4) (qiime2-2019.4) (qiime2-2019.4) \u001b[32mSaved Visualization to: core-metrics-visu_20000/bray-curtis-emperor.qzv\u001b[0m\n",
      "(qiime2-2019.4) (qiime2-2019.4) "
     ]
    },
    {
     "ename": "",
     "evalue": "1",
     "output_type": "error",
     "traceback": []
    }
   ],
   "source": [
    "output_dir=\"core-metrics-visu_20000\"\n",
    "[[ ! -d \"$output_dir\" ]] && mkdir -p \"$output_dir\"\n",
    "\n",
    "#first, use the unweighted unifrac data as input\n",
    "qiime emperor plot \\\n",
    "    --i-pcoa core-metrics-results_20000/unweighted_unifrac_pcoa_results.qza \\\n",
    "    --m-metadata-file sample-metadata.tsv \\\n",
    "    --o-visualization \"$output_dir/unweighted-unifrac-emperor.qzv\"\n",
    "#  --p-custom-axes Spieces \\\n",
    "\n",
    "#now repeat with bray curtis\n",
    "qiime emperor plot \\\n",
    "    --i-pcoa core-metrics-results_20000/bray_curtis_pcoa_results.qza \\\n",
    "    --m-metadata-file sample-metadata.tsv \\\n",
    "    --o-visualization \"$output_dir/bray-curtis-emperor.qzv\"\n",
    "#  --p-custom-axes DaysSinceExperimentStart \\"
   ]
  },
  {
   "cell_type": "markdown",
   "metadata": {},
   "source": [
    "## New trial for poster\n",
    "\n",
    "### Preparation of the environment"
   ]
  },
  {
   "cell_type": "code",
   "execution_count": null,
   "metadata": {},
   "outputs": [],
   "source": [
    "source ~/local/pckg/python/miniconda3/etc/profile.d/conda.sh\n",
    "\n",
    "cd \"analysis/11-Microbiome/2019-08_Biomphalaria_tissues/1-Qiime\"\n",
    "\n",
    "# To remove any potential conflict\n",
    "export PYTHONPATH=\"\"\n",
    "\n"
   ]
  },
  {
   "cell_type": "code",
   "execution_count": null,
   "metadata": {},
   "outputs": [],
   "source": [
    "# Installation of Qiime2 and picrust2\n",
    "conda create -f env.yml"
   ]
  },
  {
   "cell_type": "code",
   "execution_count": null,
   "metadata": {},
   "outputs": [],
   "source": [
    "# Activate qiime environment\n",
    "conda activate ubiome_organs\n",
    "\n",
    "# Enable autocompletion\n",
    "source tab-qiime"
   ]
  },
  {
   "cell_type": "code",
   "execution_count": null,
   "metadata": {},
   "outputs": [],
   "source": [
    "# Qiime output directory\n",
    "qdir=\"results/1-qiime\"\n",
    "[[ ! -d \"$qdir\" ]] && mkdir -p \"$qdir\""
   ]
  },
  {
   "cell_type": "code",
   "execution_count": null,
   "metadata": {},
   "outputs": [],
   "source": [
    "# Preparing data"
   ]
  },
  {
   "cell_type": "code",
   "execution_count": null,
   "metadata": {},
   "outputs": [],
   "source": [
    "# Create the manifest for importing data in artefact\n",
    "## source: https://docs.qiime2.org/2019.4/tutorials/importing/#fastq-manifest-formats\n",
    "for i in $(ls data/* | cut -d \"_\" -f -3 | uniq)\n",
    "do\n",
    "    nm=$(sed \"s,data/,, ; s,_,.,g\" <<<$i)\n",
    "    fl=$(ls -1 $PWD/$i* | tr \"\\n\" \"\\t\")\n",
    "\n",
    "    echo -e \"$nm\\t$fl\"\n",
    "done > manifest\n",
    "\n",
    "# Add header\n",
    "sed -i \"1s/^/sample-id\\tforward-absolute-filepath\\treverse-absolute-filepath\\n/\" manifest"
   ]
  },
  {
   "cell_type": "code",
   "execution_count": null,
   "metadata": {},
   "outputs": [],
   "source": [
    "# Prepare database\n",
    "\n",
    "#Import data\n",
    "\n",
    "# Make summary"
   ]
  },
  {
   "cell_type": "markdown",
   "metadata": {},
   "source": [
    "### Clustering and denoising"
   ]
  },
  {
   "cell_type": "code",
   "execution_count": null,
   "metadata": {},
   "outputs": [],
   "source": [
    "qiime dada2 denoise-paired \\\n",
    "  --i-demultiplexed-seqs \"$qdir/demux-paired-end.qza\" \\\n",
    "  --p-trunc-len-f 177 \\\n",
    "  --p-trunc-len-r 202 \\\n",
    "  --p-trim-left-f 0 \\\n",
    "  --p-trim-left-r 13 \\\n",
    "  --p-max-ee-f 5 \\\n",
    "  --p-max-ee-r 10 \\\n",
    "  --p-n-threads 0 \\\n",
    "  --o-table \"$qdir/table.qza\" \\\n",
    "  --o-representative-sequences \"$qdir/rep-seqs.qza\" \\\n",
    "  --o-denoising-stats \"$qdir/denoising-stats.qza\""
   ]
  },
  {
   "cell_type": "code",
   "execution_count": null,
   "metadata": {},
   "outputs": [],
   "source": [
    "qiime feature-classifier classify-consensus-vsearch \\\n",
    "  --i-query \"$qdir/rep-seqs.qza\" \\\n",
    "  --i-reference-reads database/silva_132_99_16S.qza \\\n",
    "  --i-reference-taxonomy database/silva_132_99_16S_taxa.qza \\\n",
    "  --p-perc-identity 0.97 \\\n",
    "  --p-threads $(nproc) \\\n",
    "  --o-classification \"$qdir/rep-seqs_taxa.qza\""
   ]
  },
  {
   "cell_type": "code",
   "execution_count": null,
   "metadata": {},
   "outputs": [],
   "source": [
    "# source: https://chmi-sops.github.io/mydoc_qiime2.html\n",
    "\n",
    "# Multiple seqeunce alignment using Mafft\n",
    "qiime alignment mafft \\\n",
    "    --i-sequences \"$qdir/rep-seqs.qza\" \\\n",
    "    --o-alignment \"$qdir/aligned-rep-seqs.qza\"\n",
    "\n",
    "# Masking (or filtering) the alignment to remove positions that are highly variable. These positions are generally considered to add noise to a resulting phylogenetic tree.\n",
    "qiime alignment mask \\\n",
    "    --i-alignment \"$qdir/aligned-rep-seqs.qza\" \\\n",
    "    --o-masked-alignment \"$qdir/masked-aligned-rep-seqs.qza\"\n",
    "\n",
    "# Creating tree using the Fasttree program\n",
    "qiime phylogeny fasttree \\\n",
    "    --i-alignment \"$qdir/masked-aligned-rep-seqs.qza\" \\\n",
    "    --o-tree \"$qdir/unrooted-tree.qza\"\n",
    "\n",
    "# Root the tree using the longest root\n",
    "qiime phylogeny midpoint-root \\\n",
    "    --i-tree \"$qdir/unrooted-tree.qza\" \\\n",
    "    --o-rooted-tree \"$qdir/rooted-tree.qza\""
   ]
  }
 ],
 "metadata": {
  "kernelspec": {
   "display_name": "Bash",
   "language": "bash",
   "name": "bash"
  },
  "language_info": {
   "codemirror_mode": "shell",
   "file_extension": ".sh",
   "mimetype": "text/x-sh",
   "name": "bash"
  },
  "toc": {
   "base_numbering": 1,
   "nav_menu": {},
   "number_sections": false,
   "sideBar": true,
   "skip_h1_title": true,
   "title_cell": "Table of Contents",
   "title_sidebar": "Contents",
   "toc_cell": false,
   "toc_position": {
    "height": "calc(100% - 180px)",
    "left": "10px",
    "top": "150px",
    "width": "242px"
   },
   "toc_section_display": true,
   "toc_window_display": true
  }
 },
 "nbformat": 4,
 "nbformat_minor": 2
}
