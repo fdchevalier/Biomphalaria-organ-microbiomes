{
 "cells": [
  {
   "cell_type": "markdown",
   "metadata": {},
   "source": [
    "# Organ microbiomes of two *Biomphalaria* snail species.\n",
    "\n",
    "\n",
    "## Aim\n",
    "\n",
    "We previously characterized the hemolymph (blood) microbiome of several *Biomphalaria* snail species ([Chevalier *et al.*, 2020](https://doi.org/10.1111/1462-2920.15303)) and showed that these microbiomes were diverse. Since hemolymph bathes snail organs, our current study aims to investigate the composition of the microbiome of these organs to determine if they exist and, if so, whether they are similar to the hemolymph or specific to the organs. We dissected ten snails for each of two different species (*B. alexandrina* and *B. glabrata*) and collected their hemolymph and organs (ovotestis, hepatopancreas (i.e., liver), gut, and stomach). We also ground four whole snails of each species in liquid nitrogen. Additionally, we sampled the water in which the snails were living (environmental controls). We sequenced the 16S V4 rDNA of each sample. In this notebook, we detail the analysis done to characterize the different sample microbiomes and compare them. The results are presented in the manuscript entitled \"How should we sample snail microbiomes?\".\n",
    "\n",
    "Several folders are are already available or will be created during the analysis. Here is the list of the folders and their contents:\n",
    "* **data**: Sequencing files, qPCR result file, database for taxonomy assignment, sample metadata, and list of contaminants. These files will be either present or downloaded.\n",
    "* **.env**: Files needed to create appropriate environment.\n",
    "* **graphs**: Graphical representation of the data. If not existing, this will be created during the analysis.\n",
    "* **results**: Files generated through data processing. If not existing, this will be created during the analysis.\n",
    "* **scripts**: Scripts used for the analysis.\n",
    "\n",
    "\n",
    "\n",
    "## Environment and data\n",
    "\n",
    "### Creating environment\n",
    "\n",
    "Creating a conda environment improves reproducibility by installing specific versions of the programs used."
   ]
  },
  {
   "cell_type": "code",
   "execution_count": null,
   "metadata": {},
   "outputs": [],
   "source": [
    "# Check if conda available\n",
    "[[ ! $(which conda 2> /dev/null) ]] && echo \"conda not available in \\$PATH. Please interrupt the kernel and fix the situation.\" && sleep inf\n",
    "\n",
    "# Creating conda environment\n",
    "conda env create -f .env/env.yml"
   ]
  },
  {
   "cell_type": "markdown",
   "metadata": {},
   "source": [
    "This cell must be run each time a new session of Jupyter is run."
   ]
  },
  {
   "cell_type": "code",
   "execution_count": null,
   "metadata": {},
   "outputs": [],
   "source": [
    "# Activate the environment\n",
    "source $(sed \"s,/bin/conda,,\" <<<$CONDA_EXE)/etc/profile.d/conda.sh\n",
    "conda activate ubiome_organs\n",
    "\n",
    "# Remove potential variable interferences\n",
    "export PERL5LIB=\"\"\n",
    "export PYTHONNOUSERSITE=1"
   ]
  },
  {
   "cell_type": "code",
   "execution_count": null,
   "metadata": {},
   "outputs": [],
   "source": [
    "# Installing needed R packages\n",
    "Rscript \".env/R package dependencies.R\"\n",
    "\n",
    "# Because of issues with devtools, this script will download sources and install packages from outside R\n",
    "bash \".env/R package dependencies.sh\""
   ]
  },
  {
   "cell_type": "markdown",
   "metadata": {},
   "source": [
    "### Downloading sequencing data\n",
    "\n",
    "This step downloads the fastq files of the different samples."
   ]
  },
  {
   "cell_type": "code",
   "execution_count": null,
   "metadata": {},
   "outputs": [],
   "source": [
    "# Data directory\n",
    "ldir=\"data/libraries\"\n",
    "[[ ! -d \"$ldir\" ]] && mkdir -p \"$ldir\"\n",
    "\n",
    "# Bioproject\n",
    "bioproject=PRJNA1113672\n",
    "\n",
    "# Download related information to data project\n",
    "runinfo=$(esearch -db sra -query ${bioproject} | efetch -format runinfo | sed \"/^$/d\")\n",
    "\n",
    "# Field of interest (library name and weblink)\n",
    "fdn=$(head -n 1 <<< \"$runinfo\" | tr \",\" \"\\n\" | grep -w -n \"LibraryName\" | cut -d \":\" -f 1)\n",
    "fdr=$(head -n 1 <<< \"$runinfo\" | tr \",\" \"\\n\" | grep -w -n \"Run\" | cut -d \":\" -f 1)\n",
    "\n",
    "# Download fastq files\n",
    "while read line\n",
    "do\n",
    "    # Filename and download link\n",
    "    fln=$(cut -d \",\" -f $fdn <<<$line)\n",
    "    run=$(cut -d \",\" -f $fdr <<<$line)\n",
    "    \n",
    "    # Download\n",
    "    echo \"$fln\"\n",
    "    #wget -P \"$ldir\" -O \"$fln\" \"http://trace.ncbi.nlm.nih.gov/Traces/sra/sra.cgi?cmd=dload&run_list=${run}&format=fastq\"\n",
    "    fastq-dump -O \"$ldir\" --split-files \"$run\"\n",
    "    \n",
    "    mv \"$ldir/${run}_1.fastq\" \"$ldir/${fln}_R1.fastq\"\n",
    "    mv \"$ldir/${run}_2.fastq\" \"$ldir/${fln}_R2.fastq\"\n",
    "        \n",
    "done < <(tail -n +2 <<< \"$runinfo\")\n",
    "\n",
    "# Compress files\n",
    "pigz \"$ldir/\"*"
   ]
  },
  {
   "cell_type": "markdown",
   "metadata": {},
   "source": [
    "### Downloading database\n",
    "\n",
    "The Silva database is used to assign taxonomy to the ASVs generated from the sequencing data."
   ]
  },
  {
   "cell_type": "code",
   "execution_count": null,
   "metadata": {},
   "outputs": [],
   "source": [
    "# Database directory\n",
    "dbdir=\"data/Silva db\"\n",
    "[[ ! -d \"$dbdir\" ]] && mkdir -p \"$dbdir\"\n",
    "\n",
    "\n",
    "# Download and extract the relevant Silva file\n",
    "wget -P \"$dbdir\" 'https://www.arb-silva.de/fileadmin/silva_databases/qiime/Silva_132_release.zip'\n",
    "unzip \"$dbdir/Silva_132_release.zip\" -d \"$dbdir\" && rm \"$dbdir/Silva_132_release.zip\"\n",
    "\n",
    "# Import the sequence database in Qiime format\n",
    "qiime tools import \\\n",
    "    --input-path \"$dbdir/SILVA_132_QIIME_release/rep_set/rep_set_16S_only/99/silva_132_99_16S.fna\" \\\n",
    "    --output-path \"$dbdir/silva_132_99_16S.qza\" \\\n",
    "    --type 'FeatureData[Sequence]'\n",
    "\n",
    "# Import the taxonomy database in Qiime format\n",
    "qiime tools import \\\n",
    "    --input-path \"$dbdir/SILVA_132_QIIME_release/taxonomy/16S_only/99/taxonomy_all_levels.txt\" \\\n",
    "    --output-path \"$dbdir/silva_132_99_16S_taxa.qza\" \\\n",
    "    --type 'FeatureData[Taxonomy]' \\\n",
    "    --input-format HeaderlessTSVTaxonomyFormat"
   ]
  },
  {
   "cell_type": "markdown",
   "metadata": {},
   "source": [
    "## Qiime pipeline\n",
    "\n",
    "This section process the data to generate ASVs and assign taxonomy."
   ]
  },
  {
   "cell_type": "code",
   "execution_count": null,
   "metadata": {},
   "outputs": [],
   "source": [
    "# Qiime output directory\n",
    "qdir=\"results/1-qiime\"\n",
    "[[ ! -d \"$qdir\" ]] && mkdir -p \"$qdir\"\n",
    "\n",
    "# Metadata file\n",
    "metadata=\"data/sample-metadata.tsv\""
   ]
  },
  {
   "cell_type": "markdown",
   "metadata": {},
   "source": [
    "**Note**: C.4.BgBS90.O sample is missing because sample amplification failed. So not library was made from this sample."
   ]
  },
  {
   "cell_type": "code",
   "execution_count": null,
   "metadata": {},
   "outputs": [],
   "source": [
    "# Check for sequencing data\n",
    "[[ ! $(find \"$ldir\" -type f -name *fastq.gz) ]] && echo  \"No sequencing data. Please interrupt the kernel and fix the situation.\" && sleep inf\n",
    "\n",
    "# Create the manifest for importing data in artefact\n",
    "## source: https://docs.qiime2.org/2019.4/tutorials/importing/#fastq-manifest-formats\n",
    "for i in $(ls \"$ldir\"/* | sed \"s,_R[12].fastq.*,,g\" | uniq)\n",
    "do\n",
    "    nm=$(sed \"s,$ldir/,,\" <<<$i)\n",
    "    fl=$(ls -1 \"$PWD/$i\"* | tr \"\\n\" \"\\t\")\n",
    "\n",
    "    echo -e \"$nm\\t$fl\"\n",
    "done > \"$qdir/manifest\"\n",
    "\n",
    "# Add header\n",
    "sed -i \"1s/^/sample-id\\tforward-absolute-filepath\\treverse-absolute-filepath\\n/\" \"$qdir/manifest\"\n",
    "\n",
    "# Import data\n",
    "## source: https://docs.qiime2.org/2019.4/tutorials/importing/\n",
    "qiime tools import \\\n",
    "    --type 'SampleData[PairedEndSequencesWithQuality]' \\\n",
    "    --input-path \"$qdir/manifest\" \\\n",
    "    --input-format PairedEndFastqManifestPhred33V2 \\\n",
    "    --output-path \"$qdir/demux-paired-end.qza\""
   ]
  },
  {
   "cell_type": "markdown",
   "metadata": {},
   "source": [
    "**Note**:\n",
    "* No need to remove adapters and barcodes. This has been done during `bcl2fastq`. This can be checked using `grep`.\n",
    "* Importing with `--input-format PairedEndFastqManifestPhred33V2` instead of `--input-format CasavaOneEightSingleLanePerSampleDirFmt` for [custom sample names](https://docs.qiime2.org/2019.4/tutorials/importing/#fastq-manifest-formats).\n",
    "\n",
    "### Data quality\n",
    "\n",
    "To assess data quality, we need to generate a visualization to check data quality. The visualization can be view on [Qiime2 website](https://view.qiime2.org/)"
   ]
  },
  {
   "cell_type": "code",
   "execution_count": null,
   "metadata": {},
   "outputs": [],
   "source": [
    "# Make a summary to check read quality\n",
    "qiime demux summarize \\\n",
    "    --i-data \"$qdir/demux-paired-end.qza\" \\\n",
    "    --o-visualization \"$qdir/demux-paired-end.qzv\""
   ]
  },
  {
   "cell_type": "raw",
   "metadata": {},
   "source": [
    "# This cell must be run in a terminal in place of viewing the visualization on the Qiime2 website.\n",
    "[[ -z $DISPLAY ]] && echo \"You need a X11 connection.\"\n",
    "qdir=\"results/1-qiime\"\n",
    "qiime tools view \"$qdir/demux-paired-end.qzv\""
   ]
  },
  {
   "cell_type": "markdown",
   "metadata": {},
   "source": [
    "### Sequence clustering and denoising\n",
    "\n",
    "This steps generates ASVs from the sequencing data. This step is perform by the `dada2` module."
   ]
  },
  {
   "cell_type": "code",
   "execution_count": null,
   "metadata": {},
   "outputs": [],
   "source": [
    "qiime dada2 denoise-paired \\\n",
    "    --i-demultiplexed-seqs \"$qdir/demux-paired-end.qza\" \\\n",
    "    --p-trunc-len-f 177 \\\n",
    "    --p-trunc-len-r 202 \\\n",
    "    --p-trim-left-f 0 \\\n",
    "    --p-trim-left-r 13 \\\n",
    "    --p-max-ee-f 5 \\\n",
    "    --p-max-ee-r 10 \\\n",
    "    --p-n-threads 0 \\\n",
    "    --o-table \"$qdir/table.qza\" \\\n",
    "    --o-representative-sequences \"$qdir/rep-seqs.qza\" \\\n",
    "    --o-denoising-stats \"$qdir/denoising-stats.qza\""
   ]
  },
  {
   "cell_type": "code",
   "execution_count": null,
   "metadata": {},
   "outputs": [],
   "source": [
    "# Add metadata information to the denoising stats\n",
    "qiime metadata tabulate \\\n",
    "    --m-input-file \"$metadata\" \\\n",
    "    --m-input-file \"$qdir/denoising-stats.qza\" \\\n",
    "    --o-visualization \"$qdir/denoising-stats.qzv\""
   ]
  },
  {
   "cell_type": "markdown",
   "metadata": {},
   "source": [
    "### Taxonomy identification\n",
    "\n",
    "This step assigns taxonomy to the ASVs generated. This is done using the Silva database and the `classify-consensus-vsearch` method from the `feature-classifier` plugin with an identity threshold of 97%."
   ]
  },
  {
   "cell_type": "code",
   "execution_count": null,
   "metadata": {},
   "outputs": [],
   "source": [
    "# Database directory\n",
    "dbdir=\"data/Silva db\"\n",
    "[[ ! -d \"$dbdir\" ]] && mkdir -p \"$dbdir\"\n",
    "\n",
    "qiime feature-classifier classify-consensus-vsearch \\\n",
    "    --i-query \"$qdir/rep-seqs.qza\" \\\n",
    "    --i-reference-reads \"$dbdir/silva_132_99_16S.qza\" \\\n",
    "    --i-reference-taxonomy \"$dbdir/silva_132_99_16S_taxa.qza\" \\\n",
    "    --p-perc-identity 0.97 \\\n",
    "    --p-threads $(nproc) \\\n",
    "    --o-classification \"$qdir/rep-seqs_taxa.qza\""
   ]
  },
  {
   "cell_type": "markdown",
   "metadata": {},
   "source": [
    "### Phylogeny\n",
    "\n",
    "This step generates a phylogeny from the ASVs ([source](https://chmi-sops.github.io/mydoc_qiime2.html)). ASVs are aligned, masked for highly variable regions. A tree is created from the alignment and rooted in its center."
   ]
  },
  {
   "cell_type": "code",
   "execution_count": null,
   "metadata": {},
   "outputs": [],
   "source": [
    "# Multiple seqeunce alignment using Mafft\n",
    "qiime alignment mafft \\\n",
    "    --i-sequences \"$qdir/rep-seqs.qza\" \\\n",
    "    --o-alignment \"$qdir/aligned-rep-seqs.qza\"\n",
    "\n",
    "# Masking (or filtering) the alignment to remove positions that are highly variable. These positions are generally considered to add noise to a resulting phylogenetic tree.\n",
    "qiime alignment mask \\\n",
    "    --i-alignment \"$qdir/aligned-rep-seqs.qza\" \\\n",
    "    --o-masked-alignment \"$qdir/masked-aligned-rep-seqs.qza\"\n",
    "\n",
    "# Creating tree using the Fasttree program\n",
    "qiime phylogeny fasttree \\\n",
    "    --i-alignment \"$qdir/masked-aligned-rep-seqs.qza\" \\\n",
    "    --o-tree \"$qdir/unrooted-tree.qza\"\n",
    "\n",
    "# Root the tree using the longest root\n",
    "qiime phylogeny midpoint-root \\\n",
    "    --i-tree \"$qdir/unrooted-tree.qza\" \\\n",
    "    --o-rooted-tree \"$qdir/rooted-tree.qza\""
   ]
  },
  {
   "cell_type": "markdown",
   "metadata": {},
   "source": [
    "## Library analysis\n",
    "\n",
    "To better understand the impact of the different steps on the number of reads filtered out, we analyze the Qiime2 visualization generated after the denoising step. We generate a table summarizing number of reads retained (mean, standard deviation and range) at each step, which includes the number of initial, filtered, denoised, merged and non chimeric reads, for each population and replicate."
   ]
  },
  {
   "cell_type": "code",
   "execution_count": null,
   "metadata": {},
   "outputs": [],
   "source": [
    "Rscript scripts/library_stats.R"
   ]
  },
  {
   "cell_type": "markdown",
   "metadata": {},
   "source": [
    "## Identification of ASVs with unassigned taxonomy\n",
    "\n",
    "ASVs with unassigned taxonomy could correspond to eukaryotic contaminants because of the 16S primers amplifying on the 5S or 18S regions. To exclude such contaminants, we perform a megablast search againt the NCBI nt database to find the best sequence similarity to a given unassigned ASV. The results will be then used to exclude non 16S sequences for the subsequent analysis.\n",
    "\n",
    "Because of the time this analysis can take (up to 7h), the list of contaminants is already available in the data folder.\n",
    "\n",
    "### Export of unassigned ASV\n",
    "\n",
    "We use Qiime to filter and export ASV without taxonomy assignments."
   ]
  },
  {
   "cell_type": "code",
   "execution_count": null,
   "metadata": {},
   "outputs": [],
   "source": [
    "# Filtering assigned ASV out \n",
    "qiime taxa filter-seqs \\\n",
    "    --i-sequences \"$qdir/rep-seqs.qza\" \\\n",
    "    --i-taxonomy \"$qdir/rep-seqs_taxa.qza\" \\\n",
    "    --p-include \"Unassigned\" \\\n",
    "    --o-filtered-sequences \"$qdir/rep-seqs_unassigned.qza\"\n",
    "\n",
    "# Exporting sequences in fasta format\n",
    "qiime tools export \\\n",
    "    --input-path \"$qdir/rep-seqs_unassigned.qza\" \\\n",
    "    --output-path \"$qdir/rep-seqs_unassigned\""
   ]
  },
  {
   "cell_type": "markdown",
   "metadata": {},
   "source": [
    "### Blast and annotation of unassigned ASVs\n",
    "\n",
    "To identify the most similar sequences to the unassigned ASVs, we perform a megablast. This is done using a relatively lenient e-value parameter (1e-2) to increase power of detection. This step is relatively long (estimated running time: 5 h - 8 h) even when using a maxiumum target of 1 with a maximum alignment (HSPs) of 1. The resulting table is then updated with the title and the phyla of the blast match (estimated running time: 30 min - 1 h). Finally we correct the annotations because some ASVs match 16S mitochondrial DNA of eukayote organisms and are wrongly classified as eukaryotes while they likely represent bacteria."
   ]
  },
  {
   "cell_type": "code",
   "execution_count": null,
   "metadata": {},
   "outputs": [],
   "source": [
    "# Blast the unassigned against the nt database\n",
    "blastn -task megablast -db nt -remote \\\n",
    "    -query \"$qdir/rep-seqs_unassigned/dna-sequences.fasta\" \\\n",
    "    -max_target_seqs 1 \\\n",
    "    -max_hsps 1 \\\n",
    "    -evalue 1e-2 \\\n",
    "    -outfmt 6 > \"$qdir/rep-seqs_unassigned/unassigned.blastn.tsv\"\n",
    "\n",
    "# Complete the table to identify what kind of organism the match belongs to\n",
    "for ((i=1; i <= $(wc -l < \"$qdir/rep-seqs_unassigned/unassigned.blastn.tsv\"); i++))\n",
    "do\n",
    "    # Get GI from the blast result\n",
    "    gi=$(sed -n \"${i}p\" \"$qdir/rep-seqs_unassigned/unassigned.blastn.tsv\" | cut -f 2)\n",
    "    \n",
    "    # Download entry and get title and phylym info\n",
    "    entry=$(wget -q -O - \"https://eutils.ncbi.nlm.nih.gov/entrez/eutils/efetch.fcgi?db=nuccore&id=${gi}&rettype=gb\")\n",
    "    title=$(echo \"$entry\" | grep \"^DEFINITION\" | cut -d \" \" -f 3-)\n",
    "    phylum=$(echo \"$entry\" | grep -A 1 \"^ *ORGANISM\" | sed -n \"2p\" | cut -d \";\" -f 1 | sed \"s/ *//g\")\n",
    "    \n",
    "    # Update table line\n",
    "    sed -i \"${i}s/$/\\t$title\\t$phylum/\" \"$qdir/rep-seqs_unassigned/unassigned.blastn.tsv\"\n",
    "    \n",
    "    # Sleep a little to avoid server closing connection on next request\n",
    "    sleep 0.25s\n",
    "done\n",
    "\n",
    "# Correct annotation\n",
    "for i in $(egrep -n \"mitochondri.*Eukaryota$\" \"$qdir/rep-seqs_unassigned/unassigned.blastn.tsv\" | cut -d \":\" -f 1)\n",
    "do\n",
    "    sed -i \"${i}s/Eukaryota/Bacteria/\" \"$qdir/rep-seqs_unassigned/unassigned.blastn.tsv\"\n",
    "done"
   ]
  },
  {
   "cell_type": "markdown",
   "metadata": {},
   "source": [
    "## Microbiome diversity\n",
    "\n",
    "We measure several parameters to characterize the different microbiomes:\n",
    "* **Rarefaction curves**: we generate them for each library to check whether sequencing effort was enough.\n",
    "* **$\\alpha$-diversity**: we measured observed richness, Faith's phylogenetic diversity and evenness and tested which factor(s) (species, sample type, etc.) explained the variation observed using linear mix-effect models.\n",
    "* **$\\beta$-diversity**: we measured unweighted and weighted UniFrac to understand how microbial communities were related.\n",
    "* **Taxonomic diversity**: we investigated which taxa were found in sample types.\n",
    "* **Shared taxa**: we quantified the proportion of shared taxa between organs, hemolymph and water.\n",
    "\n",
    "Details about the methods used are available in the R script. Analysis of the results are detailed in the manuscript."
   ]
  },
  {
   "cell_type": "code",
   "execution_count": null,
   "metadata": {},
   "outputs": [],
   "source": [
    "Rscript scripts/microbiome_diversity.R"
   ]
  },
  {
   "cell_type": "markdown",
   "metadata": {},
   "source": [
    "To generate the final version of Figure 5 and supp. figure 3, wee need to merge the figures (panels) into one. This can be done using `pdfjam` from TexLive package (not installed). The command line is as follows:"
   ]
  },
  {
   "cell_type": "raw",
   "metadata": {},
   "source": [
    "pdfjam \"Fig. 5\"* --nup 1x2 --papersize '{20in,10in}' --outfile \"Fig. 5.pdf\"\n",
    "pdfjam \"Supp. Fig. 3\"* --nup 1x2 --papersize '{20in,10in}' --outfile \"Supp. Fig. 3.pdf\""
   ]
  },
  {
   "cell_type": "markdown",
   "metadata": {},
   "source": [
    "## Microbiome density\n",
    "\n",
    "We investigate the bacterial density of each sample type, comparing either organs or hemolymph/water. Bacterial density was estimated using 16S qPCR. We compare quantities within each snail species and perform correlation to test if bacterial densities in different sample types show similar trends."
   ]
  },
  {
   "cell_type": "code",
   "execution_count": null,
   "metadata": {},
   "outputs": [],
   "source": [
    "# qPCR output directory\n",
    "ddir=\"data/qPCR\"\n",
    "[[ ! -d \"$ddir\" ]] && echo \"$ddir and qPCR data are missing. Please interrupt the kernel and fix the situation.\" && sleep inf\n",
    "\n",
    "# Analyze data\n",
    "Rscript scripts/microbiome_density.R"
   ]
  }
 ],
 "metadata": {
  "kernelspec": {
   "display_name": "Bash",
   "language": "bash",
   "name": "bash"
  },
  "language_info": {
   "codemirror_mode": "shell",
   "file_extension": ".sh",
   "mimetype": "text/x-sh",
   "name": "bash"
  },
  "toc": {
   "base_numbering": 1,
   "nav_menu": {},
   "number_sections": false,
   "sideBar": true,
   "skip_h1_title": true,
   "title_cell": "Table of Contents",
   "title_sidebar": "Contents",
   "toc_cell": false,
   "toc_position": {
    "height": "calc(100% - 180px)",
    "left": "10px",
    "top": "150px",
    "width": "242px"
   },
   "toc_section_display": true,
   "toc_window_display": true
  },
  "varInspector": {
   "cols": {
    "lenName": 16,
    "lenType": 16,
    "lenVar": 40
   },
   "kernels_config": {
    "python": {
     "delete_cmd_postfix": "",
     "delete_cmd_prefix": "del ",
     "library": "var_list.py",
     "varRefreshCmd": "print(var_dic_list())"
    },
    "r": {
     "delete_cmd_postfix": ") ",
     "delete_cmd_prefix": "rm(",
     "library": "var_list.r",
     "varRefreshCmd": "cat(var_dic_list()) "
    }
   },
   "types_to_exclude": [
    "module",
    "function",
    "builtin_function_or_method",
    "instance",
    "_Feature"
   ],
   "window_display": false
  }
 },
 "nbformat": 4,
 "nbformat_minor": 2
}
