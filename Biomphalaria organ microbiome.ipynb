{
 "cells": [
  {
   "cell_type": "markdown",
   "metadata": {},
   "source": [
    "# Biomphalaria organ microbiome\n",
    "\n",
    "\n",
    "## Aim\n",
    "\n",
    "Lauren Carruthers internship project. Look at microbiomes of different tissues from two *Biomphalaria* species.\n",
    "\n",
    "\n",
    "Several folders present or will be created during the analysis. Here is the list of the folders and their content:\n",
    "* **data**: Raw data files used for the analysis.\n",
    "* **.env**: Files needed to create appropriate environment.\n",
    "* **graphs**: Graphical representation of the data. If not existing, this will be created during the analysis\n",
    "* **results**: Files that are generating through data processing. If not existing, this will be created during the analysis\n",
    "* **scripts**: Scripts used for the analysis.\n",
    "\n",
    "\n",
    "## Environment and data\n",
    "\n",
    "### Creating environment"
   ]
  },
  {
   "cell_type": "code",
   "execution_count": null,
   "metadata": {},
   "outputs": [],
   "source": [
    "# Check if conda available\n",
    "[[ ! $(which conda 2> /dev/null) ]] && echo \"conda not available in \\$PATH. Please interrupt the kernel and fix the situation.\" && sleep inf\n",
    "\n",
    "# Creating conda environment\n",
    "conda env create -f .env/env.yml"
   ]
  },
  {
   "cell_type": "markdown",
   "metadata": {},
   "source": [
    "This cell must be run each time a new session of Jupyter is run."
   ]
  },
  {
   "cell_type": "code",
   "execution_count": 2,
   "metadata": {
    "ExecuteTime": {
     "end_time": "2021-02-22T17:40:22.239411Z",
     "start_time": "2021-02-22T17:40:15.964374Z"
    }
   },
   "outputs": [
    {
     "name": "stdout",
     "output_type": "stream",
     "text": [
      "(ubiome_organs) "
     ]
    },
    {
     "ename": "",
     "evalue": "1",
     "output_type": "error",
     "traceback": []
    }
   ],
   "source": [
    "# Activate the environment\n",
    "source $(sed \"s,/bin/conda,,\" <<<$CONDA_EXE)/etc/profile.d/conda.sh\n",
    "conda activate ubiome_organs\n",
    "\n",
    "# Remove potential variable interferences\n",
    "export PERL5LIB=\"\"\n",
    "export PYTHONNOUSERSITE=1"
   ]
  },
  {
   "cell_type": "code",
   "execution_count": null,
   "metadata": {},
   "outputs": [],
   "source": [
    "# Installing needed R packages\n",
    "Rscript \".env/R package dependencies.R\""
   ]
  },
  {
   "cell_type": "markdown",
   "metadata": {},
   "source": [
    "### Downloading sequencing data\n",
    "\n",
    "This step downloads the fastq files of the different samples."
   ]
  },
  {
   "cell_type": "markdown",
   "metadata": {},
   "source": [
    "**vvvv To be removed** This generates the data and will have to be replaced by the downloading of the data from SRA"
   ]
  },
  {
   "cell_type": "code",
   "execution_count": null,
   "metadata": {},
   "outputs": [],
   "source": [
    "# Project directory\n",
    "cd $HOME/analyses/11-Microbiome/\n",
    "mkdir 2019-08-08_Biomphalaria_tissues\n",
    "cd 2019-08-08_Biomphalaria_tissues\n",
    "\n",
    "# Fasta generation (MiSeq Output previously uploaded)\n",
    "cd 0-Raw\\ data/190806_M01370_0001_000000000-CKY27/\n",
    "nohup bcl2fastq --output-dir ../fastq_files/\n",
    "cd ../..\n",
    "\n",
    "# Working directory\n",
    "mkdir 1-Qiime\n",
    "cd 1-Qiime\n",
    "\n",
    "# Link data\n",
    "mkdir data\n",
    "ln -s ../0-Libraries/*.fastq.gz data/"
   ]
  },
  {
   "cell_type": "markdown",
   "metadata": {},
   "source": [
    "**^^^ To be removed**"
   ]
  },
  {
   "cell_type": "code",
   "execution_count": null,
   "metadata": {},
   "outputs": [],
   "source": [
    "# Data directory\n",
    "ldir=\"data/libraries\"\n",
    "[[ ! -d \"$ldir\" ]] && mkdir -p \"$ldir\"\n",
    "\n",
    "# Bioproject\n",
    "bioproject=PRJNXXXXXXX\n",
    "\n",
    "# Download related information to data project\n",
    "wget -q -O runinfo \"http://trace.ncbi.nlm.nih.gov/Traces/sra/sra.cgi?save=efetch&rettype=runinfo&db=sra&term=${bioproject}\"\n",
    "\n",
    "# Field of interest (library name and weblink)\n",
    "fdn=$(head -n 1 runinfo | tr \",\" \"\\n\" | grep -w -n \"LibraryName\" | cut -d \":\" -f 1)\n",
    "fdr=$(head -n 1 runinfo | tr \",\" \"\\n\" | grep -w -n \"Run\" | cut -d \":\" -f 1)\n",
    "\n",
    "# Download fastq files\n",
    "while read line\n",
    "do\n",
    "    # Filename and download link\n",
    "    fln=$(cut -d \",\" -f $fdn <<<$line)\n",
    "    run=$(cut -d \",\" -f $fdr <<<$line)\n",
    "    \n",
    "    # Download\n",
    "    echo \"$fln\"\n",
    "    #wget -P \"$ldir\" -O \"$fln\" \"http://trace.ncbi.nlm.nih.gov/Traces/sra/sra.cgi?cmd=dload&run_list=${run}&format=fastq\"\n",
    "    fastq-dump -O \"$ldir\" --split-files \"$run\"\n",
    "    \n",
    "    mv \"$ldir/${run}_1.fastq\" \"$ldir/${fln}_R1.fastq\"\n",
    "    mv \"$ldir/${run}_2.fastq\" \"$ldir/${fln}_R2.fastq\"\n",
    "        \n",
    "done < <(tail -n +2 runinfo)\n",
    "\n",
    "# Compress files\n",
    "pigz \"$ldir/\"*\n",
    "\n",
    "rm runinfo"
   ]
  },
  {
   "cell_type": "markdown",
   "metadata": {},
   "source": [
    "### Downloading database\n",
    "\n",
    "The Silva database is used to assign taxonomy to the ASVs generated from the sequencing data."
   ]
  },
  {
   "cell_type": "code",
   "execution_count": null,
   "metadata": {},
   "outputs": [],
   "source": [
    "# Database directory\n",
    "dbdir=\"data/Silva db\"\n",
    "[[ ! -d \"$dbdir\" ]] && mkdir -p \"$dbdir\"\n",
    "\n",
    "\n",
    "# Download and extract the relevant Silva file\n",
    "wget -P \"$dbdir\" 'https://www.arb-silva.de/fileadmin/silva_databases/qiime/Silva_132_release.zip'\n",
    "unzip \"$dbdir/Silva_132_release.zip\" -d \"$dbdir\" && rm \"$dbdir/Silva_132_release.zip\"\n",
    "\n",
    "# Import the sequence database in Qiime format\n",
    "qiime tools import \\\n",
    "    --input-path \"$dbdir/SILVA_132_QIIME_release/rep_set/rep_set_16S_only/99/silva_132_99_16S.fna\" \\\n",
    "    --output-path \"$dbdir/silva_132_99_16S.qza\" \\\n",
    "    --type 'FeatureData[Sequence]'\n",
    "\n",
    "# Import the taxonomy database in Qiime format\n",
    "qiime tools import \\\n",
    "    --input-path \"$dbdir/SILVA_132_QIIME_release/taxonomy/16S_only/99/taxonomy_all_levels.txt\" \\\n",
    "    --output-path \"$dbdir/silva_132_99_16S_taxa.qza\" \\\n",
    "    --type 'FeatureData[Taxonomy]' \\\n",
    "    --input-format HeaderlessTSVTaxonomyFormat"
   ]
  },
  {
   "cell_type": "markdown",
   "metadata": {},
   "source": [
    "## Qiime pipeline\n",
    "\n",
    "This section process the data to generate ASVs and assign taxonomy."
   ]
  },
  {
   "cell_type": "code",
   "execution_count": 5,
   "metadata": {
    "ExecuteTime": {
     "end_time": "2021-02-22T17:49:45.112581Z",
     "start_time": "2021-02-22T17:49:44.750961Z"
    }
   },
   "outputs": [
    {
     "name": "stdout",
     "output_type": "stream",
     "text": [
      "(ubiome_organs) (ubiome_organs) (ubiome_organs) (ubiome_organs) (ubiome_organs) (ubiome_organs) "
     ]
    },
    {
     "ename": "",
     "evalue": "1",
     "output_type": "error",
     "traceback": []
    }
   ],
   "source": [
    "# Qiime output directory\n",
    "qdir=\"results/1-qiime\"\n",
    "[[ ! -d \"$qdir\" ]] && mkdir -p \"$qdir\"\n",
    "\n",
    "# Metadata file\n",
    "metadata=\"data/sample-metadata.tsv\""
   ]
  },
  {
   "cell_type": "markdown",
   "metadata": {},
   "source": [
    "**Note**: C.4.BgBS90.O sample is missing because sample amplification failed. So not library was made from this sample.\n",
    "\n",
    "**vvvv To be removed** This generates the manifest from fastq generated by bcl2fastq and will have to be replaced by the cell after that generates the manifest from the downloaded SRA data"
   ]
  },
  {
   "cell_type": "code",
   "execution_count": 5,
   "metadata": {},
   "outputs": [],
   "source": [
    "# Create the manifest for importing data in artefact\n",
    "## source: https://docs.qiime2.org/2019.4/tutorials/importing/#fastq-manifest-formats\n",
    "for i in $(ls data/* | cut -d \"_\" -f 3-5 | uniq)\n",
    "do\n",
    "    nm=$(sed \"s,data/,, ; s,_,.,g\" <<<$i)\n",
    "    fl=$(ls -1 $PWD/data/*$i* | tr \"\\n\" \"\\t\")\n",
    "\n",
    "    echo -e \"$nm\\t$fl\"\n",
    "done > \"$qdir/manifest\"\n",
    "\n",
    "# Add header\n",
    "sed -i \"1s/^/sample-id\\tforward-absolute-filepath\\treverse-absolute-filepath\\n/\" \"$qdir/manifest\"\n",
    "\n",
    "# Import data\n",
    "## source: https://docs.qiime2.org/2019.4/tutorials/importing/\n",
    "qiime tools import \\\n",
    "    --type 'SampleData[PairedEndSequencesWithQuality]' \\\n",
    "    --input-path \"$qdir/manifest\" \\\n",
    "    --input-format PairedEndFastqManifestPhred33V2 \\\n",
    "    --output-path \"$qdir/demux-paired-end.qza\""
   ]
  },
  {
   "cell_type": "markdown",
   "metadata": {},
   "source": [
    "**^^^ To be removed**"
   ]
  },
  {
   "cell_type": "code",
   "execution_count": null,
   "metadata": {},
   "outputs": [],
   "source": [
    "# Check for sequencing data\n",
    "[[ ! $(find \"$ldir\" -type f -name *fastq.gz) ]] && echo  \"No sequencing data. Please interrupt the kernel and fix the situation.\" && sleep inf\n",
    "\n",
    "# Create the manifest for importing data in artefact\n",
    "## source: https://docs.qiime2.org/2019.4/tutorials/importing/#fastq-manifest-formats\n",
    "for i in $(ls \"$ldir\"/* | sed \"s,_R[12].fastq.*,,g\" | uniq)\n",
    "do\n",
    "    nm=$(sed \"s,$ldir/,,\" <<<$i)\n",
    "    fl=$(ls -1 \"$PWD/$i\"* | tr \"\\n\" \"\\t\")\n",
    "\n",
    "    echo -e \"$nm\\t$fl\"\n",
    "done > \"$qdir/manifest\"\n",
    "\n",
    "# Add header\n",
    "sed -i \"1s/^/sample-id\\tforward-absolute-filepath\\treverse-absolute-filepath\\n/\" \"$qdir/manifest\"\n",
    "\n",
    "# Import data\n",
    "## source: https://docs.qiime2.org/2019.4/tutorials/importing/\n",
    "qiime tools import \\\n",
    "    --type 'SampleData[PairedEndSequencesWithQuality]' \\\n",
    "    --input-path \"$qdir/manifest\" \\\n",
    "    --input-format PairedEndFastqManifestPhred33V2 \\\n",
    "    --output-path \"$qdir/demux-paired-end.qza\""
   ]
  },
  {
   "cell_type": "markdown",
   "metadata": {},
   "source": [
    "**Note**:\n",
    "* No need to remove adapters and barcodes. This has been done during `bcl2fastq`. This can be checked using `grep`.\n",
    "* Importing with `--input-format PairedEndFastqManifestPhred33V2` instead of `--input-format CasavaOneEightSingleLanePerSampleDirFmt` for [custom sample names](https://docs.qiime2.org/2019.4/tutorials/importing/#fastq-manifest-formats).\n",
    "\n",
    "### Data quality\n",
    "\n",
    "To assess data quality, we need to generate a visualization to check data quality. The visualization can be view on [Qiime2 website](https://view.qiime2.org/)"
   ]
  },
  {
   "cell_type": "code",
   "execution_count": 9,
   "metadata": {},
   "outputs": [
    {
     "name": "stdout",
     "output_type": "stream",
     "text": [
      "(qiime2-2019.4) \u001b[32mSaved Visualization to: demux-paired-end2.qzv\u001b[0m\n",
      "(qiime2-2019.4) "
     ]
    },
    {
     "ename": "",
     "evalue": "1",
     "output_type": "error",
     "traceback": []
    }
   ],
   "source": [
    "# Make a summary to check read quality\n",
    "qiime demux summarize \\\n",
    "    --i-data demux-paired-end.qza \\\n",
    "    --o-visualization demux-paired-end.qzv"
   ]
  },
  {
   "cell_type": "raw",
   "metadata": {},
   "source": [
    "# This cell must be run in a terminal in place of viewing the visualization on the Qiime2 website.\n",
    "[[ -z $DISPLAY ]] && echo \"You need a X11 connection.\"\n",
    "qdir=\"results/1-qiime\"\n",
    "qiime tools view \"$qdir/demux-paired-end.qzv\""
   ]
  },
  {
   "cell_type": "markdown",
   "metadata": {},
   "source": [
    "**Note**: read quality drops toward the end but are still above 10. So no trimming done.\n",
    "\n",
    "### Sequence clustering and denoising\n",
    "\n",
    "This steps generates ASVs from the sequencing data. This step is perform by the `dada2` module."
   ]
  },
  {
   "cell_type": "code",
   "execution_count": null,
   "metadata": {},
   "outputs": [],
   "source": [
    "qiime dada2 denoise-paired \\\n",
    "    --i-demultiplexed-seqs \"$qdir/demux-paired-end.qza\" \\\n",
    "    --p-trunc-len-f 177 \\\n",
    "    --p-trunc-len-r 202 \\\n",
    "    --p-trim-left-f 0 \\\n",
    "    --p-trim-left-r 13 \\\n",
    "    --p-max-ee-f 5 \\\n",
    "    --p-max-ee-r 10 \\\n",
    "    --p-n-threads 0 \\\n",
    "    --o-table \"$qdir/table.qza\" \\\n",
    "    --o-representative-sequences \"$qdir/rep-seqs.qza\" \\\n",
    "    --o-denoising-stats \"$qdir/denoising-stats.qza\""
   ]
  },
  {
   "cell_type": "code",
   "execution_count": null,
   "metadata": {},
   "outputs": [],
   "source": [
    "qiime feature-classifier classify-consensus-vsearch \\\n",
    "    --i-query \"$qdir/rep-seqs.qza\" \\\n",
    "    --i-reference-reads database/silva_132_99_16S.qza \\\n",
    "    --i-reference-taxonomy database/silva_132_99_16S_taxa.qza \\\n",
    "    --p-perc-identity 0.97 \\\n",
    "    --p-threads $(nproc) \\\n",
    "    --o-classification \"$qdir/rep-seqs_taxa.qza\""
   ]
  },
  {
   "cell_type": "code",
   "execution_count": null,
   "metadata": {},
   "outputs": [],
   "source": [
    "# source: https://chmi-sops.github.io/mydoc_qiime2.html\n",
    "\n",
    "# Multiple seqeunce alignment using Mafft\n",
    "qiime alignment mafft \\\n",
    "    --i-sequences \"$qdir/rep-seqs.qza\" \\\n",
    "    --o-alignment \"$qdir/aligned-rep-seqs.qza\"\n",
    "\n",
    "# Masking (or filtering) the alignment to remove positions that are highly variable. These positions are generally considered to add noise to a resulting phylogenetic tree.\n",
    "qiime alignment mask \\\n",
    "    --i-alignment \"$qdir/aligned-rep-seqs.qza\" \\\n",
    "    --o-masked-alignment \"$qdir/masked-aligned-rep-seqs.qza\"\n",
    "\n",
    "# Creating tree using the Fasttree program\n",
    "qiime phylogeny fasttree \\\n",
    "    --i-alignment \"$qdir/masked-aligned-rep-seqs.qza\" \\\n",
    "    --o-tree \"$qdir/unrooted-tree.qza\"\n",
    "\n",
    "# Root the tree using the longest root\n",
    "qiime phylogeny midpoint-root \\\n",
    "    --i-tree \"$qdir/unrooted-tree.qza\" \\\n",
    "    --o-rooted-tree \"$qdir/rooted-tree.qza\""
   ]
  },
  {
   "cell_type": "markdown",
   "metadata": {},
   "source": [
    "## Identification of ASVs with unassigned taxonomy\n",
    "\n",
    "ASVs with unassigned taxonomy could correspond to eukaryotic contaminants because of the 16S primers amplifying on the 5S or 18S regions. To exclude such contaminants, we perform a megablast search againt the NCBI nt database to find the best sequence similarity to a given unassigned ASV. The results will be then used to exclude non 16S sequences for the subsequent analysis.\n",
    "\n",
    "Because of the time this analysis can take (up to 7h), the list of contaminants is already available in the data folder.\n",
    "\n",
    "### Export of unassigned ASV\n",
    "\n",
    "We use Qiime to filter and export ASV without taxonomy assignments."
   ]
  },
  {
   "cell_type": "code",
   "execution_count": 3,
   "metadata": {
    "ExecuteTime": {
     "end_time": "2020-09-14T04:11:37.667142Z",
     "start_time": "2020-09-14T04:10:35.745157Z"
    }
   },
   "outputs": [
    {
     "name": "stdout",
     "output_type": "stream",
     "text": [
      "(ubiome_organs) \u001b[32mSaved FeatureData[Sequence] to: results/1-qiime/rep-seqs_unassigned.qza\u001b[0m\n",
      "(ubiome_organs) (ubiome_organs) (ubiome_organs) \u001b[32mExported results/1-qiime/rep-seqs_unassigned.qza as DNASequencesDirectoryFormat to directory results/1-qiime/rep-seqs_unassigned\u001b[0m\n",
      "(ubiome_organs) "
     ]
    },
    {
     "ename": "",
     "evalue": "1",
     "output_type": "error",
     "traceback": []
    }
   ],
   "source": [
    "# Filtering assigned ASV out \n",
    "qiime taxa filter-seqs \\\n",
    "    --i-sequences \"$qdir/rep-seqs.qza\" \\\n",
    "    --i-taxonomy \"$qdir/rep-seqs_taxa.qza\" \\\n",
    "    --p-include \"Unassigned\" \\\n",
    "    --o-filtered-sequences \"$qdir/rep-seqs_unassigned.qza\"\n",
    "\n",
    "# Exporting sequences in fasta format\n",
    "qiime tools export \\\n",
    "    --input-path \"$qdir/rep-seqs_unassigned.qza\" \\\n",
    "    --output-path \"$qdir/rep-seqs_unassigned\""
   ]
  },
  {
   "cell_type": "markdown",
   "metadata": {},
   "source": [
    "### Blast and annotation of unassigned ASVs\n",
    "\n",
    "To identify the most similar sequences to the unassigned ASVs, we perform a megablast. This is done using a relatively lenient e-value parameter (1e-2) to increase power of detection. This step is relatively long (estimated running time: 5 h - 8 h) even when using a maxiumum target of 1 with a maximum alignment (HSPs) of 1. The resulting table is then updated with the title and the phyla of the blast match (estimated running time: 30 min - 1 h). Finally we correct the annotations because some ASVs match 16S mitochondrial DNA of eukayote organisms and are wrongly classified as eukaryotes while they likely represent bacteria."
   ]
  },
  {
   "cell_type": "code",
   "execution_count": null,
   "metadata": {},
   "outputs": [],
   "source": [
    "# Blast the unassigned against the nt database\n",
    "blastn -task megablast -db nt -remote \\\n",
    "    -query \"$qdir/rep-seqs_unassigned/dna-sequences.fasta\" \\\n",
    "    -max_target_seqs 1 \\\n",
    "    -max_hsps 1 \\\n",
    "    -evalue 1e-2 \\\n",
    "    -outfmt 6 > \"$qdir/rep-seqs_unassigned/unassigned.blastn.tsv\"\n",
    "\n",
    "# Complete the table to identify what kind of organism the match belongs to\n",
    "for ((i=1; i <= $(wc -l < \"$qdir/rep-seqs_unassigned/unassigned.blastn.tsv\"); i++))\n",
    "do\n",
    "    # Get GI from the blast result\n",
    "    gi=$(sed -n \"${i}p\" \"$qdir/rep-seqs_unassigned/unassigned.blastn.tsv\" | cut -f 2)\n",
    "    \n",
    "    # Download entry and get title and phylym info\n",
    "    entry=$(wget -q -O - \"https://eutils.ncbi.nlm.nih.gov/entrez/eutils/efetch.fcgi?db=nuccore&id=${gi}&rettype=gb\")\n",
    "    title=$(echo \"$entry\" | grep \"^DEFINITION\" | cut -d \" \" -f 3-)\n",
    "    phylum=$(echo \"$entry\" | grep -A 1 \"^ *ORGANISM\" | sed -n \"2p\" | cut -d \";\" -f 1 | sed \"s/ *//g\")\n",
    "    \n",
    "    # Update table line\n",
    "    sed -i \"${i}s/$/\\t$title\\t$phylum/\" \"$qdir/rep-seqs_unassigned/unassigned.blastn.tsv\"\n",
    "    \n",
    "    # Sleep a little to avoid server closing connection on next request\n",
    "    sleep 0.25s\n",
    "done\n",
    "\n",
    "# Correct annotation\n",
    "for i in $(egrep -n \"mitochondri.*Eukaryota$\" \"$qdir/rep-seqs_unassigned/unassigned.blastn.tsv\" | cut -d \":\" -f 1)\n",
    "do\n",
    "    sed -i \"${i}s/Eukaryota/Bacteria/\" \"$qdir/rep-seqs_unassigned/unassigned.blastn.tsv\"\n",
    "done"
   ]
  },
  {
   "cell_type": "markdown",
   "metadata": {},
   "source": [
    "## Functional inference\n",
    "\n",
    "We investigate the potential role of the hemolymph microbiome by analyzing the metabolic pathways differentially represented between hemolymph and water samples. The pathway inference is done using PiCRUST2 and following this [tutorial](https://github.com/picrust/picrust2/wiki/PICRUSt2-Tutorial-(v2.1.4-beta)#pathway-level-inference)."
   ]
  },
  {
   "cell_type": "code",
   "execution_count": 4,
   "metadata": {
    "ExecuteTime": {
     "end_time": "2021-02-22T17:49:24.773084Z",
     "start_time": "2021-02-22T17:49:24.552349Z"
    }
   },
   "outputs": [
    {
     "name": "stdout",
     "output_type": "stream",
     "text": [
      "(ubiome_organs) (ubiome_organs) (ubiome_organs) "
     ]
    },
    {
     "ename": "",
     "evalue": "1",
     "output_type": "error",
     "traceback": []
    }
   ],
   "source": [
    "# PiCRUST output directory\n",
    "pdir=\"results/2-picrust2\"\n",
    "[[ ! -d \"$pdir\" ]] && mkdir -p \"$pdir\""
   ]
  },
  {
   "cell_type": "raw",
   "metadata": {
    "ExecuteTime": {
     "end_time": "2021-02-22T17:50:57.287367Z",
     "start_time": "2021-02-22T17:49:52.463227Z"
    }
   },
   "source": [
    "# Filter table to retain sample from each replicate\n",
    "for i in {1..2}\n",
    "do\n",
    "    awk -v i=$i 'NR==1; $5 == i {print}' \"$metadata\" > \"$qdir/.metadata\"\n",
    "    \n",
    "    qiime feature-table filter-samples \\\n",
    "        --i-table \"$qdir/table.qza\"  \\\n",
    "        --m-metadata-file \"$qdir/.metadata\" \\\n",
    "        --o-filtered-table \"$qdir/table_rep$i.qza\"\n",
    "done\n",
    "\n",
    "# Clean\n",
    "rm \"$qdir/.metadata\""
   ]
  },
  {
   "cell_type": "code",
   "execution_count": 7,
   "metadata": {
    "ExecuteTime": {
     "end_time": "2021-02-22T21:00:28.384380Z",
     "start_time": "2021-02-22T21:00:12.395377Z"
    }
   },
   "outputs": [
    {
     "name": "stdout",
     "output_type": "stream",
     "text": [
      "(ubiome_organs) \u001b[32mExported results/1-qiime/rep-seqs.qza as DNASequencesDirectoryFormat to directory results/2-picrust2/\u001b[0m\n",
      "(ubiome_organs) (ubiome_organs) (ubiome_organs) (ubiome_organs) (ubiome_organs) \u001b[32mExported results/1-qiime/table.qza as BIOMV210DirFmt to directory results/2-picrust2/rep\u001b[0m\n",
      "(ubiome_organs) "
     ]
    },
    {
     "ename": "",
     "evalue": "1",
     "output_type": "error",
     "traceback": []
    }
   ],
   "source": [
    "# Export sequences\n",
    "qiime tools export \\\n",
    "    --input-path \"$qdir/rep-seqs.qza\" \\\n",
    "    --output-path \"$pdir/\"\n",
    "\n",
    "# Remove contaminants\n",
    "while read i\n",
    "do\n",
    "    sed -i \"/>${i}/,+1d\" \"$pdir/dna-sequences.fasta\"\n",
    "done < \"data/contaminants\"\n",
    "\n",
    "qiime tools export \\\n",
    "    --input-path \"$qdir/table.qza\" \\\n",
    "    --output-path \"$pdir/rep\""
   ]
  },
  {
   "cell_type": "code",
   "execution_count": 8,
   "metadata": {
    "ExecuteTime": {
     "end_time": "2021-02-22T21:09:41.915867Z",
     "start_time": "2021-02-22T21:03:27.850997Z"
    }
   },
   "outputs": [
    {
     "name": "stdout",
     "output_type": "stream",
     "text": [
      "(ubiome_organs) Warning - 47 input sequences aligned poorly to reference sequences (--min_align option specified a minimum proportion of 0.8 aligning to reference sequences). These input sequences will not be placed and will be excluded from downstream steps.\n",
      "\n",
      "This is the set of poorly aligned input sequences to be excluded: fe70a7151005deea0059d7a2e3cdc991, 0c4dc293d67c7ec04776747e95472401, eb85cbbe78c5a9f7a8f459a93bc77e40, 3f7b9842f475a6d1cb89cb3e35a48438, b3806aba53e45979728e3295fbc9b138, f58b60a0ffa6b70af68fd95d63b691ab, 3822ef1b1055e494cd9f36fceec4db9d, bd498b1081c7b564609c406a3549dda4, 80985301cd7eb46118ce99a3504cbec3, f9c944f3f7414e0917d4a2d559014387, f295b1ee79e587340b5d4705403aa67f, 5c5a3b52521062cfae2421e4932c5b7c, 50ed35943a01d18c25ca7ff8d9d0b1bd, 33620f8983bc6136c1d4a5934c2145b3, 8880fa044897f3b276f9fb6b06bac807, a9e1207d131ed1b5a1f089aef8be502d, d8f45ceb8cfd4c1c75d0e029047590d7, 8c585b220e4e405520466f588c25e34f, 11edfdcd0551a9c73de61c895bf46c9f, 3f403dbee943b163577f2215323d28e2, 95daa04d5a452f70cf0001a438d24ca0, d1f6957777e1cc48276f21b0911a865c, 7cee499c9cf8589a1cf315b2c23cdf38, cd9099cbd25af5269071c9d214615f99, 8464f96cbfb7217b34b377bdc02e20e1, 9681f56486e4962acecd443d619f8724, e92859a0f57d9fb7aa595f266fea2dd8, df05b5305bb96239711fb7712bbfa60f, bf49b00079387299c92bab376f3a77b6, 6eaa933d94ab0a258c468a51dce00da6, 22952042d8e1dd31b2e23d04286f0a3e, b99607c54c83996f7f85a604687691c4, 641a01c2ed36c519b5cb5a218ccc712e, 2dc32df605beec02798a605b06f0440d, 4f8176ba7c76bca2cd34040fa8454588, 0136472f1a892d62b30d7710514abd6c, 7be3abfd00de9a05b3a3f47543cf7271, 02d6bfd213005f64c98af4adf5ed6133, 4b5c0fa2855b5aaab12a1f0dbba0a417, 36c614287d730238f9a0d4b5a6f58a57, 61e5929668574ca583761a488125c6b5, b8a90b8a234263b33dd4756f02696046, 95a9f8f5b21dd5d03e3a8aad87b7327d, 7e07a841f4f4cc90bad84bcbee42347e, 06aa7a7a4380339002b1d5cc5d906509, fb62b6c00e978e3741a697a163c3a1ad, 7e2b8809f4c7336e1b4ccf2cae288d99\n",
      "\n",
      "(ubiome_organs) (ubiome_organs) (ubiome_organs) (ubiome_organs) (ubiome_organs) (ubiome_organs) (ubiome_organs) 139\n",
      "(ubiome_organs) "
     ]
    },
    {
     "ename": "",
     "evalue": "1",
     "output_type": "error",
     "traceback": []
    }
   ],
   "source": [
    "# Place reads into reference tree\n",
    "place_seqs.py -s \"$pdir/dna-sequences.fasta\" -o \"$pdir/out.tre\" -p $(nproc) \\\n",
    "    --intermediate \"$pdir/intermediate/place_seqs\"\n",
    "\n",
    "# Hidden-state prediction of gene families\n",
    "hsp.py -i 16S -t \"$pdir/out.tre\" -o \"$pdir/marker_predicted_and_nsti.tsv.gz\" -p $(nproc) -n\n",
    "hsp.py -i EC -t \"$pdir/out.tre\" -o \"$pdir/EC_predicted.tsv.gz\" -p $(nproc) -n\n",
    "\n",
    "# Number of outliers\n",
    "zcat \"$pdir/marker_predicted_and_nsti.tsv.gz\"  | tail -n +2 | awk '$3 >= 2' | wc -l"
   ]
  },
  {
   "cell_type": "raw",
   "metadata": {},
   "source": [
    "# Run for each replicate\n",
    "for i in {1..2}\n",
    "do\n",
    "    # Generate metagenome predictions\n",
    "    metagenome_pipeline.py \\\n",
    "        -i \"$pdir/rep$i/feature-table.biom\" \\\n",
    "        -m \"$pdir/marker_predicted_and_nsti.tsv.gz\" \\\n",
    "        -f \"$pdir/EC_predicted.tsv.gz\" \\\n",
    "        --max_nsti 2.0 \\\n",
    "        -o \"$pdir/rep$i/EC_metagenome_out\" \\\n",
    "        --strat_out --metagenome_contrib\n",
    "\n",
    "    # Pathway-level inference\n",
    "    pathway_pipeline.py \\\n",
    "        -i \"$pdir/rep$i/EC_metagenome_out/pred_metagenome_strat.tsv.gz\" \\\n",
    "        -o \"$pdir/rep$i/pathways_out\" -p $(nproc)\n",
    "\n",
    "    #Add functional descriptions\n",
    "    add_descriptions.py -i \"$pdir/rep$i/EC_metagenome_out/pred_metagenome_unstrat.tsv.gz\" -m EC \\\n",
    "                        -o \"$pdir/rep$i/EC_metagenome_out/pred_metagenome_unstrat_descrip.tsv.gz\"\n",
    "\n",
    "    add_descriptions.py -i \"$pdir/rep$i/pathways_out/path_abun_unstrat.tsv.gz\" -m METACYC \\\n",
    "                        -o \"$pdir/rep$i/pathways_out/path_abun_unstrat_descrip.tsv.gz\"\n",
    "done"
   ]
  },
  {
   "cell_type": "code",
   "execution_count": 15,
   "metadata": {
    "ExecuteTime": {
     "end_time": "2021-02-22T22:06:28.489227Z",
     "start_time": "2021-02-22T22:03:20.079830Z"
    }
   },
   "outputs": [
    {
     "name": "stdout",
     "output_type": "stream",
     "text": [
      "(ubiome_organs) 139 of 1711 ASVs were above the max NSTI cut-off of 2.0 and were removed.\n",
      "139 of 1711 ASVs were above the max NSTI cut-off of 2.0 and were removed.\n",
      "(ubiome_organs) "
     ]
    },
    {
     "ename": "",
     "evalue": "1",
     "output_type": "error",
     "traceback": []
    }
   ],
   "source": [
    "# Generate metagenome predictions\n",
    "metagenome_pipeline.py \\\n",
    "    -i \"$pdir/rep/feature-table.biom\" \\\n",
    "    -m \"$pdir/marker_predicted_and_nsti.tsv.gz\" \\\n",
    "    -f \"$pdir/EC_predicted.tsv.gz\" \\\n",
    "    --max_nsti 2.0 \\\n",
    "    -o \"$pdir/rep/EC_metagenome_out\" \\\n",
    "    --strat_out \\\n",
    "    --wide_table"
   ]
  },
  {
   "cell_type": "code",
   "execution_count": 17,
   "metadata": {
    "ExecuteTime": {
     "end_time": "2021-02-22T22:26:35.781951Z",
     "start_time": "2021-02-22T22:13:33.198007Z"
    }
   },
   "outputs": [
    {
     "name": "stdout",
     "output_type": "stream",
     "text": [
      "(ubiome_organs) (ubiome_organs) (ubiome_organs) (ubiome_organs) (ubiome_organs) (ubiome_organs) (ubiome_organs) "
     ]
    },
    {
     "ename": "",
     "evalue": "1",
     "output_type": "error",
     "traceback": []
    }
   ],
   "source": [
    "# Pathway-level inference\n",
    "pathway_pipeline.py \\\n",
    "    -i \"$pdir/rep/EC_metagenome_out/pred_metagenome_strat.tsv.gz\" \\\n",
    "    -o \"$pdir/rep/pathways_out\" \\\n",
    "    -p $(nproc) \\\n",
    "    --wide_table\n",
    "\n",
    "#Add functional descriptions\n",
    "add_descriptions.py -i \"$pdir/rep/EC_metagenome_out/pred_metagenome_unstrat.tsv.gz\" -m EC \\\n",
    "                    -o \"$pdir/rep/EC_metagenome_out/pred_metagenome_unstrat_descrip.tsv.gz\"\n",
    "\n",
    "add_descriptions.py -i \"$pdir/rep/pathways_out/path_abun_unstrat.tsv.gz\" -m METACYC \\\n",
    "                    -o \"$pdir/rep/pathways_out/path_abun_unstrat_descrip.tsv.gz\""
   ]
  },
  {
   "cell_type": "markdown",
   "metadata": {},
   "source": [
    "## Trunk\n",
    "\n",
    "### Sample metadata updates"
   ]
  },
  {
   "cell_type": "code",
   "execution_count": null,
   "metadata": {},
   "outputs": [],
   "source": [
    "# Create the manifest for importing data in artefact\n",
    "## source: https://docs.qiime2.org/2019.4/tutorials/importing/#fastq-manifest-formats\n",
    "for i in $(ls data/* | cut -d \"_\" -f -5 | uniq)\n",
    "do\n",
    "    nm=$(sed \"s,data/,, ; s,_,.,g\" <<<$i)\n",
    "    cln=$(echo \"$nm\" | cut -d \".\" -f 4)\n",
    "    cln=\"$cln\\t$(echo \"$nm\" | cut -d \".\" -f 4-5)\"\n",
    "    cln=\"$cln\\t$(echo \"$nm\" | cut -d \".\" -f 5)\"\n",
    "    \n",
    "    # Update name\n",
    "    nm=$(echo \"$nm\" | cut -d \".\" -f 3-5)\n",
    "\n",
    "    echo -e \"$nm\\t$cln\"\n",
    "done > sample-metadata.tsv\n",
    "\n",
    "# Add header\n",
    "sed -i \"1s/^/sample-id\\tSpecies\\tComb\\tTissue\\n/\" sample-metadata.tsv"
   ]
  },
  {
   "cell_type": "code",
   "execution_count": 19,
   "metadata": {},
   "outputs": [
    {
     "name": "stdout",
     "output_type": "stream",
     "text": [
      "(qiime2-2019.4) (qiime2-2019.4) (qiime2-2019.4) (qiime2-2019.4) (qiime2-2019.4) (qiime2-2019.4) "
     ]
    },
    {
     "ename": "",
     "evalue": "1",
     "output_type": "error",
     "traceback": []
    }
   ],
   "source": [
    "## !! WARNING To be removed when samplesheet corrected\n",
    "sed -i \"s/\\tCa/\\tBa/g\" sample-metadata.tsv"
   ]
  }
 ],
 "metadata": {
  "kernelspec": {
   "display_name": "Bash",
   "language": "bash",
   "name": "bash"
  },
  "language_info": {
   "codemirror_mode": "shell",
   "file_extension": ".sh",
   "mimetype": "text/x-sh",
   "name": "bash"
  },
  "toc": {
   "base_numbering": 1,
   "nav_menu": {},
   "number_sections": false,
   "sideBar": true,
   "skip_h1_title": true,
   "title_cell": "Table of Contents",
   "title_sidebar": "Contents",
   "toc_cell": false,
   "toc_position": {
    "height": "calc(100% - 180px)",
    "left": "10px",
    "top": "150px",
    "width": "242px"
   },
   "toc_section_display": true,
   "toc_window_display": true
  },
  "varInspector": {
   "cols": {
    "lenName": 16,
    "lenType": 16,
    "lenVar": 40
   },
   "kernels_config": {
    "python": {
     "delete_cmd_postfix": "",
     "delete_cmd_prefix": "del ",
     "library": "var_list.py",
     "varRefreshCmd": "print(var_dic_list())"
    },
    "r": {
     "delete_cmd_postfix": ") ",
     "delete_cmd_prefix": "rm(",
     "library": "var_list.r",
     "varRefreshCmd": "cat(var_dic_list()) "
    }
   },
   "types_to_exclude": [
    "module",
    "function",
    "builtin_function_or_method",
    "instance",
    "_Feature"
   ],
   "window_display": false
  }
 },
 "nbformat": 4,
 "nbformat_minor": 2
}
