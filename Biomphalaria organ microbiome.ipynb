{
 "cells": [
  {
   "cell_type": "markdown",
   "metadata": {},
   "source": [
    "# Biomphalaria organ microbiome\n",
    "\n",
    "\n",
    "## Aim\n",
    "\n",
    "Lauren Carruthers internship project. Look at microbiomes of different tissues from two *Biomphalaria* species.\n",
    "\n",
    "\n",
    "Several folders present or will be created during the analysis. Here is the list of the folders and their content:\n",
    "* **data**: Raw data files used for the analysis.\n",
    "* **.env**: Files needed to create appropriate environment.\n",
    "* **graphs**: Graphical representation of the data. If not existing, this will be created during the analysis\n",
    "* **results**: Files that are generating through data processing. If not existing, this will be created during the analysis\n",
    "* **scripts**: Scripts used for the analysis.\n",
    "\n",
    "\n",
    "## Environment and data\n",
    "\n",
    "### Creating environment"
   ]
  },
  {
   "cell_type": "code",
   "execution_count": null,
   "metadata": {},
   "outputs": [],
   "source": [
    "# Check if conda available\n",
    "[[ ! $(which conda 2> /dev/null) ]] && echo \"conda not available in \\$PATH. Exiting...\" && exit 1\n",
    "\n",
    "# Creating conda environment\n",
    "conda env create -f .env/env.yml"
   ]
  },
  {
   "cell_type": "markdown",
   "metadata": {},
   "source": [
    "This cell must be run each time a new session of Jupyter is run."
   ]
  },
  {
   "cell_type": "code",
   "execution_count": null,
   "metadata": {},
   "outputs": [],
   "source": [
    "# Activate the environment\n",
    "source $(sed \"s,/bin/conda,,\" <<<$CONDA_EXE)/etc/profile.d/conda.sh\n",
    "conda activate ubiome_organs"
   ]
  },
  {
   "cell_type": "code",
   "execution_count": null,
   "metadata": {},
   "outputs": [],
   "source": [
    "# Installing needed R packages\n",
    "Rscript \".env/R package dependencies.R\""
   ]
  },
  {
   "cell_type": "markdown",
   "metadata": {},
   "source": [
    "### Downloading sequencing data\n",
    "\n",
    "This step downloads the fastq files of the different samples."
   ]
  },
  {
   "cell_type": "markdown",
   "metadata": {},
   "source": [
    "**vvvv To be removed** This generates the data and will have to be replaced by the downloading of the data from SRA"
   ]
  },
  {
   "cell_type": "code",
   "execution_count": null,
   "metadata": {},
   "outputs": [],
   "source": [
    "# Project directory\n",
    "cd $HOME/analyses/11-Microbiome/\n",
    "mkdir 2019-08-08_Biomphalaria_tissues\n",
    "cd 2019-08-08_Biomphalaria_tissues\n",
    "\n",
    "# Fasta generation (MiSeq Output previously uploaded)\n",
    "cd 0-Raw\\ data/190806_M01370_0001_000000000-CKY27/\n",
    "nohup bcl2fastq --output-dir ../fastq_files/\n",
    "cd ../..\n",
    "\n",
    "# Working directory\n",
    "mkdir 1-Qiime\n",
    "cd 1-Qiime\n",
    "\n",
    "# Link data\n",
    "mkdir data\n",
    "ln -s ../0-Libraries/*.fastq.gz data/"
   ]
  },
  {
   "cell_type": "markdown",
   "metadata": {},
   "source": [
    "**^^^ To be removed**"
   ]
  },
  {
   "cell_type": "code",
   "execution_count": null,
   "metadata": {},
   "outputs": [],
   "source": [
    "# Data directory\n",
    "ldir=\"data/libraries\"\n",
    "[[ ! -d \"$ldir\" ]] && mkdir -p \"$ldir\"\n",
    "\n",
    "# Bioproject\n",
    "bioproject=PRJNXXXXXXX\n",
    "\n",
    "# Download related information to data project\n",
    "wget -q -O runinfo \"http://trace.ncbi.nlm.nih.gov/Traces/sra/sra.cgi?save=efetch&rettype=runinfo&db=sra&term=${bioproject}\"\n",
    "\n",
    "# Field of interest (library name and weblink)\n",
    "fdn=$(head -n 1 runinfo | tr \",\" \"\\n\" | grep -w -n \"LibraryName\" | cut -d \":\" -f 1)\n",
    "fdr=$(head -n 1 runinfo | tr \",\" \"\\n\" | grep -w -n \"Run\" | cut -d \":\" -f 1)\n",
    "\n",
    "# Download fastq files\n",
    "while read line\n",
    "do\n",
    "    # Filename and download link\n",
    "    fln=$(cut -d \",\" -f $fdn <<<$line)\n",
    "    run=$(cut -d \",\" -f $fdr <<<$line)\n",
    "    \n",
    "    # Download\n",
    "    echo \"$fln\"\n",
    "    #wget -P \"$ldir\" -O \"$fln\" \"http://trace.ncbi.nlm.nih.gov/Traces/sra/sra.cgi?cmd=dload&run_list=${run}&format=fastq\"\n",
    "    fastq-dump -O \"$ldir\" --split-files \"$run\"\n",
    "    \n",
    "    mv \"$ldir/${run}_1.fastq\" \"$ldir/${fln}_R1.fastq\"\n",
    "    mv \"$ldir/${run}_2.fastq\" \"$ldir/${fln}_R2.fastq\"\n",
    "        \n",
    "done < <(tail -n +2 runinfo | head -1)\n",
    "\n",
    "# Compress files\n",
    "pigz \"$ldir/\"*\n",
    "\n",
    "rm runinfo"
   ]
  },
  {
   "cell_type": "markdown",
   "metadata": {},
   "source": [
    "### Downloading database\n",
    "\n",
    "The Silva database is used to assign taxonomy to the ASVs generated from the sequencing data."
   ]
  },
  {
   "cell_type": "code",
   "execution_count": null,
   "metadata": {},
   "outputs": [],
   "source": [
    "# Database directory\n",
    "dbdir=\"data/Silva db\"\n",
    "[[ ! -d \"$dbdir\" ]] && mkdir -p \"$dbdir\"\n",
    "\n",
    "\n",
    "# Download and extract the relevant Silva file\n",
    "wget -P \"$dbdir\" 'https://www.arb-silva.de/fileadmin/silva_databases/qiime/Silva_132_release.zip'\n",
    "unzip \"$dbdir/Silva_132_release.zip\" -d \"$dbdir\" && rm \"$dbdir/Silva_132_release.zip\"\n",
    "\n",
    "# Import the sequence database in Qiime format\n",
    "qiime tools import \\\n",
    "  --input-path \"$dbdir/SILVA_132_QIIME_release/rep_set/rep_set_16S_only/99/silva_132_99_16S.fna\" \\\n",
    "  --output-path \"$dbdir/silva_132_99_16S.qza\" \\\n",
    "  --type 'FeatureData[Sequence]'\n",
    "\n",
    "# Import the taxonomy database in Qiime format\n",
    "qiime tools import \\\n",
    "  --input-path \"$dbdir/SILVA_132_QIIME_release/taxonomy/16S_only/99/taxonomy_all_levels.txt\" \\\n",
    "  --output-path \"$dbdir/silva_132_99_16S_taxa.qza\" \\\n",
    "  --type 'FeatureData[Taxonomy]' \\\n",
    "  --input-format HeaderlessTSVTaxonomyFormat"
   ]
  },
  {
   "cell_type": "markdown",
   "metadata": {},
   "source": [
    "## Qiime pipeline\n",
    "\n",
    "This section process the data to generate ASVs and assign taxonomy."
   ]
  },
  {
   "cell_type": "code",
   "execution_count": null,
   "metadata": {},
   "outputs": [],
   "source": [
    "# Qiime output directory\n",
    "qdir=\"results/1-qiime\"\n",
    "[[ ! -d \"$qdir\" ]] && mkdir -p \"$qdir\"\n",
    "\n",
    "# Metadata file\n",
    "metadata=\"data/sample-metadata.tsv\""
   ]
  },
  {
   "cell_type": "markdown",
   "metadata": {},
   "source": [
    "**vvvv To be removed** This generates the manifest from fastq generated by bcl2fastq and will have to be replaced by the cell after that generates the manifest from the downloaded SRA data"
   ]
  },
  {
   "cell_type": "code",
   "execution_count": 5,
   "metadata": {},
   "outputs": [],
   "source": [
    "# Create the manifest for importing data in artefact\n",
    "## source: https://docs.qiime2.org/2019.4/tutorials/importing/#fastq-manifest-formats\n",
    "for i in $(ls data/* | cut -d \"_\" -f 3-5 | uniq)\n",
    "do\n",
    "    nm=$(sed \"s,data/,, ; s,_,.,g\" <<<$i)\n",
    "    fl=$(ls -1 $PWD/data/*$i* | tr \"\\n\" \"\\t\")\n",
    "\n",
    "    echo -e \"$nm\\t$fl\"\n",
    "done > \"$qdir/manifest\"\n",
    "\n",
    "# Add header\n",
    "sed -i \"1s/^/sample-id\\tforward-absolute-filepath\\treverse-absolute-filepath\\n/\" \"$qdir/manifest\"\n",
    "\n",
    "# Import data\n",
    "## source: https://docs.qiime2.org/2019.4/tutorials/importing/\n",
    "qiime tools import \\\n",
    "  --type 'SampleData[PairedEndSequencesWithQuality]' \\\n",
    "  --input-path \"$qdir/manifest\" \\\n",
    "  --input-format PairedEndFastqManifestPhred33V2 \\\n",
    "  --output-path \"$qdir/demux-paired-end.qza\""
   ]
  },
  {
   "cell_type": "markdown",
   "metadata": {},
   "source": [
    "**^^^ To be removed**"
   ]
  },
  {
   "cell_type": "code",
   "execution_count": null,
   "metadata": {},
   "outputs": [],
   "source": [
    "# Check for sequencing data\n",
    "[[ ! $(find \"$ldir\" -type f -name *fastq.gz) ]] && echo  \"No sequencing data. Exiting...\" && exit 1\n",
    "\n",
    "# Create the manifest for importing data in artefact\n",
    "## source: https://docs.qiime2.org/2019.4/tutorials/importing/#fastq-manifest-formats\n",
    "for i in $(ls \"$ldir\"/* | sed \"s,_R[12].fastq.*,,g\" | uniq)\n",
    "do\n",
    "    nm=$(sed \"s,$ldir/,,\" <<<$i)\n",
    "    fl=$(ls -1 \"$PWD/$i\"* | tr \"\\n\" \"\\t\")\n",
    "\n",
    "    echo -e \"$nm\\t$fl\"\n",
    "done > \"$qdir/manifest\"\n",
    "\n",
    "# Add header\n",
    "sed -i \"1s/^/sample-id\\tforward-absolute-filepath\\treverse-absolute-filepath\\n/\" \"$qdir/manifest\"\n",
    "\n",
    "# Import data\n",
    "## source: https://docs.qiime2.org/2019.4/tutorials/importing/\n",
    "qiime tools import \\\n",
    "  --type 'SampleData[PairedEndSequencesWithQuality]' \\\n",
    "  --input-path \"$qdir/manifest\" \\\n",
    "  --input-format PairedEndFastqManifestPhred33V2 \\\n",
    "  --output-path \"$qdir/demux-paired-end.qza\""
   ]
  },
  {
   "cell_type": "markdown",
   "metadata": {},
   "source": [
    "**Note**:\n",
    "* No need to remove adapters and barcodes. This has been done during `bcl2fastq`. This can be checked using `grep`.\n",
    "* Importing with `--input-format PairedEndFastqManifestPhred33V2` instead of `--input-format CasavaOneEightSingleLanePerSampleDirFmt` for [custom sample names](https://docs.qiime2.org/2019.4/tutorials/importing/#fastq-manifest-formats).\n",
    "\n",
    "### Data quality\n",
    "\n",
    "To assess data quality, we need to generate a visualization to check data quality. The visualization can be view on [Qiime2 website](https://view.qiime2.org/)"
   ]
  },
  {
   "cell_type": "code",
   "execution_count": 9,
   "metadata": {},
   "outputs": [
    {
     "name": "stdout",
     "output_type": "stream",
     "text": [
      "(qiime2-2019.4) \u001b[32mSaved Visualization to: demux-paired-end2.qzv\u001b[0m\n",
      "(qiime2-2019.4) "
     ]
    },
    {
     "ename": "",
     "evalue": "1",
     "output_type": "error",
     "traceback": []
    }
   ],
   "source": [
    "# Make a summary to check read quality\n",
    "qiime demux summarize \\\n",
    "  --i-data demux-paired-end.qza \\\n",
    "  --o-visualization demux-paired-end.qzv"
   ]
  },
  {
   "cell_type": "raw",
   "metadata": {},
   "source": [
    "# This cell must be run in a terminal in place of viewing the visualization on the Qiime2 website.\n",
    "[[ -z $DISPLAY ]] && echo \"You need a X11 connection.\"\n",
    "qdir=\"results/1-qiime\"\n",
    "qiime tools view \"$qdir/demux-paired-end.qzv\""
   ]
  },
  {
   "cell_type": "markdown",
   "metadata": {},
   "source": [
    "**Note**: read quality drops toward the end but are still above 10. So no trimming done.\n",
    "\n",
    "### Sequence clustering and denoising\n",
    "\n",
    "This steps generates ASVs from the sequencing data. This step is perform by the `dada2` module."
   ]
  },
  {
   "cell_type": "code",
   "execution_count": null,
   "metadata": {},
   "outputs": [],
   "source": [
    "qiime dada2 denoise-paired \\\n",
    "  --i-demultiplexed-seqs \"$qdir/demux-paired-end.qza\" \\\n",
    "  --p-trunc-len-f 177 \\\n",
    "  --p-trunc-len-r 202 \\\n",
    "  --p-trim-left-f 0 \\\n",
    "  --p-trim-left-r 13 \\\n",
    "  --p-max-ee-f 5 \\\n",
    "  --p-max-ee-r 10 \\\n",
    "  --p-n-threads 0 \\\n",
    "  --o-table \"$qdir/table.qza\" \\\n",
    "  --o-representative-sequences \"$qdir/rep-seqs.qza\" \\\n",
    "  --o-denoising-stats \"$qdir/denoising-stats.qza\""
   ]
  },
  {
   "cell_type": "code",
   "execution_count": null,
   "metadata": {},
   "outputs": [],
   "source": [
    "qiime feature-classifier classify-consensus-vsearch \\\n",
    "  --i-query \"$qdir/rep-seqs.qza\" \\\n",
    "  --i-reference-reads database/silva_132_99_16S.qza \\\n",
    "  --i-reference-taxonomy database/silva_132_99_16S_taxa.qza \\\n",
    "  --p-perc-identity 0.97 \\\n",
    "  --p-threads $(nproc) \\\n",
    "  --o-classification \"$qdir/rep-seqs_taxa.qza\""
   ]
  },
  {
   "cell_type": "code",
   "execution_count": null,
   "metadata": {},
   "outputs": [],
   "source": [
    "# source: https://chmi-sops.github.io/mydoc_qiime2.html\n",
    "\n",
    "# Multiple seqeunce alignment using Mafft\n",
    "qiime alignment mafft \\\n",
    "    --i-sequences \"$qdir/rep-seqs.qza\" \\\n",
    "    --o-alignment \"$qdir/aligned-rep-seqs.qza\"\n",
    "\n",
    "# Masking (or filtering) the alignment to remove positions that are highly variable. These positions are generally considered to add noise to a resulting phylogenetic tree.\n",
    "qiime alignment mask \\\n",
    "    --i-alignment \"$qdir/aligned-rep-seqs.qza\" \\\n",
    "    --o-masked-alignment \"$qdir/masked-aligned-rep-seqs.qza\"\n",
    "\n",
    "# Creating tree using the Fasttree program\n",
    "qiime phylogeny fasttree \\\n",
    "    --i-alignment \"$qdir/masked-aligned-rep-seqs.qza\" \\\n",
    "    --o-tree \"$qdir/unrooted-tree.qza\"\n",
    "\n",
    "# Root the tree using the longest root\n",
    "qiime phylogeny midpoint-root \\\n",
    "    --i-tree \"$qdir/unrooted-tree.qza\" \\\n",
    "    --o-rooted-tree \"$qdir/rooted-tree.qza\""
   ]
  },
  {
   "cell_type": "markdown",
   "metadata": {},
   "source": [
    "## Trunk\n",
    "\n",
    "### Sample metadata updates"
   ]
  },
  {
   "cell_type": "code",
   "execution_count": null,
   "metadata": {},
   "outputs": [],
   "source": [
    "# Create the manifest for importing data in artefact\n",
    "## source: https://docs.qiime2.org/2019.4/tutorials/importing/#fastq-manifest-formats\n",
    "for i in $(ls data/* | cut -d \"_\" -f -5 | uniq)\n",
    "do\n",
    "    nm=$(sed \"s,data/,, ; s,_,.,g\" <<<$i)\n",
    "    cln=$(echo \"$nm\" | cut -d \".\" -f 4)\n",
    "    cln=\"$cln\\t$(echo \"$nm\" | cut -d \".\" -f 4-5)\"\n",
    "    cln=\"$cln\\t$(echo \"$nm\" | cut -d \".\" -f 5)\"\n",
    "    \n",
    "    # Update name\n",
    "    nm=$(echo \"$nm\" | cut -d \".\" -f 3-5)\n",
    "\n",
    "    echo -e \"$nm\\t$cln\"\n",
    "done > sample-metadata.tsv\n",
    "\n",
    "# Add header\n",
    "sed -i \"1s/^/sample-id\\tSpecies\\tComb\\tTissue\\n/\" sample-metadata.tsv"
   ]
  },
  {
   "cell_type": "code",
   "execution_count": 19,
   "metadata": {},
   "outputs": [
    {
     "name": "stdout",
     "output_type": "stream",
     "text": [
      "(qiime2-2019.4) (qiime2-2019.4) (qiime2-2019.4) (qiime2-2019.4) (qiime2-2019.4) (qiime2-2019.4) "
     ]
    },
    {
     "ename": "",
     "evalue": "1",
     "output_type": "error",
     "traceback": []
    }
   ],
   "source": [
    "## !! WARNING To be removed when samplesheet corrected\n",
    "sed -i \"s/\\tCa/\\tBa/g\" sample-metadata.tsv"
   ]
  }
 ],
 "metadata": {
  "kernelspec": {
   "display_name": "Bash",
   "language": "bash",
   "name": "bash"
  },
  "language_info": {
   "codemirror_mode": "shell",
   "file_extension": ".sh",
   "mimetype": "text/x-sh",
   "name": "bash"
  },
  "toc": {
   "base_numbering": 1,
   "nav_menu": {},
   "number_sections": false,
   "sideBar": true,
   "skip_h1_title": true,
   "title_cell": "Table of Contents",
   "title_sidebar": "Contents",
   "toc_cell": false,
   "toc_position": {
    "height": "calc(100% - 180px)",
    "left": "10px",
    "top": "150px",
    "width": "242px"
   },
   "toc_section_display": true,
   "toc_window_display": true
  },
  "varInspector": {
   "cols": {
    "lenName": 16,
    "lenType": 16,
    "lenVar": 40
   },
   "kernels_config": {
    "python": {
     "delete_cmd_postfix": "",
     "delete_cmd_prefix": "del ",
     "library": "var_list.py",
     "varRefreshCmd": "print(var_dic_list())"
    },
    "r": {
     "delete_cmd_postfix": ") ",
     "delete_cmd_prefix": "rm(",
     "library": "var_list.r",
     "varRefreshCmd": "cat(var_dic_list()) "
    }
   },
   "types_to_exclude": [
    "module",
    "function",
    "builtin_function_or_method",
    "instance",
    "_Feature"
   ],
   "window_display": false
  }
 },
 "nbformat": 4,
 "nbformat_minor": 2
}
